{
  "nbformat": 4,
  "nbformat_minor": 0,
  "metadata": {
    "colab": {
      "provenance": []
    },
    "kernelspec": {
      "name": "python3",
      "display_name": "Python 3"
    },
    "language_info": {
      "name": "python"
    }
  },
  "cells": [
    {
      "cell_type": "markdown",
      "source": [
        "#**Bank Customer Churn Dataset**"
      ],
      "metadata": {
        "id": "FSA9P8I7oq6T"
      }
    },
    {
      "cell_type": "markdown",
      "source": [
        "Setiap bank ingin menahan pelanggan untuk mempertahankan bisnis mereka termasuk Bank Multinasional ABC.\n",
        "\n",
        "Di bawah ini adalah data nasabah pemegang rekening di ABC Multinational Bank dan data tersebut bertujuan untuk memprediksi Customer Churn."
      ],
      "metadata": {
        "id": "5fEKoXKCobbT"
      }
    },
    {
      "cell_type": "code",
      "source": [
        "from google.colab import drive\n",
        "drive.mount('/content/drive')"
      ],
      "metadata": {
        "colab": {
          "base_uri": "https://localhost:8080/"
        },
        "id": "9IYZ5ExUi6iY",
        "outputId": "33028aa7-c6df-404e-f9fc-375f948ee6c3"
      },
      "execution_count": null,
      "outputs": [
        {
          "output_type": "stream",
          "name": "stdout",
          "text": [
            "Drive already mounted at /content/drive; to attempt to forcibly remount, call drive.mount(\"/content/drive\", force_remount=True).\n"
          ]
        }
      ]
    },
    {
      "cell_type": "code",
      "source": [
        "!pip install xgboost"
      ],
      "metadata": {
        "colab": {
          "base_uri": "https://localhost:8080/"
        },
        "id": "i3p8NZoVeNke",
        "outputId": "59d014cd-5b3c-48a1-c180-0f9e32c8a242"
      },
      "execution_count": null,
      "outputs": [
        {
          "output_type": "stream",
          "name": "stdout",
          "text": [
            "Looking in indexes: https://pypi.org/simple, https://us-python.pkg.dev/colab-wheels/public/simple/\n",
            "Requirement already satisfied: xgboost in /usr/local/lib/python3.7/dist-packages (0.90)\n",
            "Requirement already satisfied: numpy in /usr/local/lib/python3.7/dist-packages (from xgboost) (1.21.6)\n",
            "Requirement already satisfied: scipy in /usr/local/lib/python3.7/dist-packages (from xgboost) (1.7.3)\n"
          ]
        }
      ]
    },
    {
      "cell_type": "code",
      "source": [
        "## REQUIRED LIBRARIES\n",
        "# For data wrangling \n",
        "import numpy as np\n",
        "import pandas as pd\n",
        "\n",
        "# For visualization\n",
        "import matplotlib.pyplot as plt\n",
        "%matplotlib inline\n",
        "import seaborn as sns\n",
        "pd.options.display.max_rows = None\n",
        "pd.options.display.max_columns = None\n",
        "\n",
        "BC = pd.read_csv('/content/drive/MyDrive/fp/Bank Customer Churn Prediction.csv')\n",
        "BC.head()"
      ],
      "metadata": {
        "colab": {
          "base_uri": "https://localhost:8080/",
          "height": 206
        },
        "id": "KPd8rkaVh7LZ",
        "outputId": "7db61365-48ce-41d6-cd94-c099ecdf411d"
      },
      "execution_count": null,
      "outputs": [
        {
          "output_type": "execute_result",
          "data": {
            "text/plain": [
              "   customer_id  credit_score country  gender  age  tenure    balance  \\\n",
              "0     15634602           619  France  Female   42       2       0.00   \n",
              "1     15647311           608   Spain  Female   41       1   83807.86   \n",
              "2     15619304           502  France  Female   42       8  159660.80   \n",
              "3     15701354           699  France  Female   39       1       0.00   \n",
              "4     15737888           850   Spain  Female   43       2  125510.82   \n",
              "\n",
              "   products_number  credit_card  active_member  estimated_salary  churn  \n",
              "0                1            1              1         101348.88      1  \n",
              "1                1            0              1         112542.58      0  \n",
              "2                3            1              0         113931.57      1  \n",
              "3                2            0              0          93826.63      0  \n",
              "4                1            1              1          79084.10      0  "
            ],
            "text/html": [
              "\n",
              "  <div id=\"df-be0cdb91-8e33-4610-b788-43d5c249e118\">\n",
              "    <div class=\"colab-df-container\">\n",
              "      <div>\n",
              "<style scoped>\n",
              "    .dataframe tbody tr th:only-of-type {\n",
              "        vertical-align: middle;\n",
              "    }\n",
              "\n",
              "    .dataframe tbody tr th {\n",
              "        vertical-align: top;\n",
              "    }\n",
              "\n",
              "    .dataframe thead th {\n",
              "        text-align: right;\n",
              "    }\n",
              "</style>\n",
              "<table border=\"1\" class=\"dataframe\">\n",
              "  <thead>\n",
              "    <tr style=\"text-align: right;\">\n",
              "      <th></th>\n",
              "      <th>customer_id</th>\n",
              "      <th>credit_score</th>\n",
              "      <th>country</th>\n",
              "      <th>gender</th>\n",
              "      <th>age</th>\n",
              "      <th>tenure</th>\n",
              "      <th>balance</th>\n",
              "      <th>products_number</th>\n",
              "      <th>credit_card</th>\n",
              "      <th>active_member</th>\n",
              "      <th>estimated_salary</th>\n",
              "      <th>churn</th>\n",
              "    </tr>\n",
              "  </thead>\n",
              "  <tbody>\n",
              "    <tr>\n",
              "      <th>0</th>\n",
              "      <td>15634602</td>\n",
              "      <td>619</td>\n",
              "      <td>France</td>\n",
              "      <td>Female</td>\n",
              "      <td>42</td>\n",
              "      <td>2</td>\n",
              "      <td>0.00</td>\n",
              "      <td>1</td>\n",
              "      <td>1</td>\n",
              "      <td>1</td>\n",
              "      <td>101348.88</td>\n",
              "      <td>1</td>\n",
              "    </tr>\n",
              "    <tr>\n",
              "      <th>1</th>\n",
              "      <td>15647311</td>\n",
              "      <td>608</td>\n",
              "      <td>Spain</td>\n",
              "      <td>Female</td>\n",
              "      <td>41</td>\n",
              "      <td>1</td>\n",
              "      <td>83807.86</td>\n",
              "      <td>1</td>\n",
              "      <td>0</td>\n",
              "      <td>1</td>\n",
              "      <td>112542.58</td>\n",
              "      <td>0</td>\n",
              "    </tr>\n",
              "    <tr>\n",
              "      <th>2</th>\n",
              "      <td>15619304</td>\n",
              "      <td>502</td>\n",
              "      <td>France</td>\n",
              "      <td>Female</td>\n",
              "      <td>42</td>\n",
              "      <td>8</td>\n",
              "      <td>159660.80</td>\n",
              "      <td>3</td>\n",
              "      <td>1</td>\n",
              "      <td>0</td>\n",
              "      <td>113931.57</td>\n",
              "      <td>1</td>\n",
              "    </tr>\n",
              "    <tr>\n",
              "      <th>3</th>\n",
              "      <td>15701354</td>\n",
              "      <td>699</td>\n",
              "      <td>France</td>\n",
              "      <td>Female</td>\n",
              "      <td>39</td>\n",
              "      <td>1</td>\n",
              "      <td>0.00</td>\n",
              "      <td>2</td>\n",
              "      <td>0</td>\n",
              "      <td>0</td>\n",
              "      <td>93826.63</td>\n",
              "      <td>0</td>\n",
              "    </tr>\n",
              "    <tr>\n",
              "      <th>4</th>\n",
              "      <td>15737888</td>\n",
              "      <td>850</td>\n",
              "      <td>Spain</td>\n",
              "      <td>Female</td>\n",
              "      <td>43</td>\n",
              "      <td>2</td>\n",
              "      <td>125510.82</td>\n",
              "      <td>1</td>\n",
              "      <td>1</td>\n",
              "      <td>1</td>\n",
              "      <td>79084.10</td>\n",
              "      <td>0</td>\n",
              "    </tr>\n",
              "  </tbody>\n",
              "</table>\n",
              "</div>\n",
              "      <button class=\"colab-df-convert\" onclick=\"convertToInteractive('df-be0cdb91-8e33-4610-b788-43d5c249e118')\"\n",
              "              title=\"Convert this dataframe to an interactive table.\"\n",
              "              style=\"display:none;\">\n",
              "        \n",
              "  <svg xmlns=\"http://www.w3.org/2000/svg\" height=\"24px\"viewBox=\"0 0 24 24\"\n",
              "       width=\"24px\">\n",
              "    <path d=\"M0 0h24v24H0V0z\" fill=\"none\"/>\n",
              "    <path d=\"M18.56 5.44l.94 2.06.94-2.06 2.06-.94-2.06-.94-.94-2.06-.94 2.06-2.06.94zm-11 1L8.5 8.5l.94-2.06 2.06-.94-2.06-.94L8.5 2.5l-.94 2.06-2.06.94zm10 10l.94 2.06.94-2.06 2.06-.94-2.06-.94-.94-2.06-.94 2.06-2.06.94z\"/><path d=\"M17.41 7.96l-1.37-1.37c-.4-.4-.92-.59-1.43-.59-.52 0-1.04.2-1.43.59L10.3 9.45l-7.72 7.72c-.78.78-.78 2.05 0 2.83L4 21.41c.39.39.9.59 1.41.59.51 0 1.02-.2 1.41-.59l7.78-7.78 2.81-2.81c.8-.78.8-2.07 0-2.86zM5.41 20L4 18.59l7.72-7.72 1.47 1.35L5.41 20z\"/>\n",
              "  </svg>\n",
              "      </button>\n",
              "      \n",
              "  <style>\n",
              "    .colab-df-container {\n",
              "      display:flex;\n",
              "      flex-wrap:wrap;\n",
              "      gap: 12px;\n",
              "    }\n",
              "\n",
              "    .colab-df-convert {\n",
              "      background-color: #E8F0FE;\n",
              "      border: none;\n",
              "      border-radius: 50%;\n",
              "      cursor: pointer;\n",
              "      display: none;\n",
              "      fill: #1967D2;\n",
              "      height: 32px;\n",
              "      padding: 0 0 0 0;\n",
              "      width: 32px;\n",
              "    }\n",
              "\n",
              "    .colab-df-convert:hover {\n",
              "      background-color: #E2EBFA;\n",
              "      box-shadow: 0px 1px 2px rgba(60, 64, 67, 0.3), 0px 1px 3px 1px rgba(60, 64, 67, 0.15);\n",
              "      fill: #174EA6;\n",
              "    }\n",
              "\n",
              "    [theme=dark] .colab-df-convert {\n",
              "      background-color: #3B4455;\n",
              "      fill: #D2E3FC;\n",
              "    }\n",
              "\n",
              "    [theme=dark] .colab-df-convert:hover {\n",
              "      background-color: #434B5C;\n",
              "      box-shadow: 0px 1px 3px 1px rgba(0, 0, 0, 0.15);\n",
              "      filter: drop-shadow(0px 1px 2px rgba(0, 0, 0, 0.3));\n",
              "      fill: #FFFFFF;\n",
              "    }\n",
              "  </style>\n",
              "\n",
              "      <script>\n",
              "        const buttonEl =\n",
              "          document.querySelector('#df-be0cdb91-8e33-4610-b788-43d5c249e118 button.colab-df-convert');\n",
              "        buttonEl.style.display =\n",
              "          google.colab.kernel.accessAllowed ? 'block' : 'none';\n",
              "\n",
              "        async function convertToInteractive(key) {\n",
              "          const element = document.querySelector('#df-be0cdb91-8e33-4610-b788-43d5c249e118');\n",
              "          const dataTable =\n",
              "            await google.colab.kernel.invokeFunction('convertToInteractive',\n",
              "                                                     [key], {});\n",
              "          if (!dataTable) return;\n",
              "\n",
              "          const docLinkHtml = 'Like what you see? Visit the ' +\n",
              "            '<a target=\"_blank\" href=https://colab.research.google.com/notebooks/data_table.ipynb>data table notebook</a>'\n",
              "            + ' to learn more about interactive tables.';\n",
              "          element.innerHTML = '';\n",
              "          dataTable['output_type'] = 'display_data';\n",
              "          await google.colab.output.renderOutput(dataTable, element);\n",
              "          const docLink = document.createElement('div');\n",
              "          docLink.innerHTML = docLinkHtml;\n",
              "          element.appendChild(docLink);\n",
              "        }\n",
              "      </script>\n",
              "    </div>\n",
              "  </div>\n",
              "  "
            ]
          },
          "metadata": {},
          "execution_count": 69
        }
      ]
    },
    {
      "cell_type": "markdown",
      "source": [
        "**About Dataset**\n",
        "\n",
        "This dataset is for ABC Multistate bank with following columns:\n",
        "\n",
        "    customer_id, unused variable.\n",
        "    credit_score, used as input.\n",
        "    country, used as input.\n",
        "    gender, used as input.\n",
        "    age, used as input.\n",
        "    tenure, used as input.\n",
        "    balance, used as input.\n",
        "    products_number, used as input.\n",
        "    credit_card, used as input.\n",
        "    active_member, used as input.\n",
        "    estimated_salary, used as input.\n",
        "    churn, used as the target. 1 if the client has left the bank during some period or 0 if he/she has not.\n",
        "\n",
        "Aim is to Predict the Customer Churn for ABC Bank."
      ],
      "metadata": {
        "id": "z8x7KwswpI8t"
      }
    },
    {
      "cell_type": "markdown",
      "source": [],
      "metadata": {
        "id": "Orwbho0Roy7i"
      }
    },
    {
      "cell_type": "code",
      "source": [
        "BC.shape"
      ],
      "metadata": {
        "colab": {
          "base_uri": "https://localhost:8080/"
        },
        "id": "9tf13EdD055p",
        "outputId": "53fd0a72-5c69-4b06-e18c-783be7836eda"
      },
      "execution_count": null,
      "outputs": [
        {
          "output_type": "execute_result",
          "data": {
            "text/plain": [
              "(10000, 12)"
            ]
          },
          "metadata": {},
          "execution_count": 70
        }
      ]
    },
    {
      "cell_type": "code",
      "source": [
        "# Check columns list and missing values\n",
        "BC.isnull().sum()"
      ],
      "metadata": {
        "colab": {
          "base_uri": "https://localhost:8080/"
        },
        "id": "wiC3gZNe1NHH",
        "outputId": "07eb40d5-cec1-438d-8cbb-0602935c2c2c"
      },
      "execution_count": null,
      "outputs": [
        {
          "output_type": "execute_result",
          "data": {
            "text/plain": [
              "customer_id         0\n",
              "credit_score        0\n",
              "country             0\n",
              "gender              0\n",
              "age                 0\n",
              "tenure              0\n",
              "balance             0\n",
              "products_number     0\n",
              "credit_card         0\n",
              "active_member       0\n",
              "estimated_salary    0\n",
              "churn               0\n",
              "dtype: int64"
            ]
          },
          "metadata": {},
          "execution_count": 71
        }
      ]
    },
    {
      "cell_type": "markdown",
      "source": [
        "Tidak ada data missing value"
      ],
      "metadata": {
        "id": "ZOdDFmuz1gWU"
      }
    },
    {
      "cell_type": "code",
      "source": [
        "# Get unique count for each variable\n",
        "BC.nunique()"
      ],
      "metadata": {
        "colab": {
          "base_uri": "https://localhost:8080/"
        },
        "id": "0hYExfBT1NQM",
        "outputId": "e62b923b-b8e8-49ae-d6c7-b5573cc393aa"
      },
      "execution_count": null,
      "outputs": [
        {
          "output_type": "execute_result",
          "data": {
            "text/plain": [
              "customer_id         10000\n",
              "credit_score          460\n",
              "country                 3\n",
              "gender                  2\n",
              "age                    70\n",
              "tenure                 11\n",
              "balance              6382\n",
              "products_number         4\n",
              "credit_card             2\n",
              "active_member           2\n",
              "estimated_salary     9999\n",
              "churn                   2\n",
              "dtype: int64"
            ]
          },
          "metadata": {},
          "execution_count": 72
        }
      ]
    },
    {
      "cell_type": "code",
      "source": [
        "BC.duplicated().sum()"
      ],
      "metadata": {
        "colab": {
          "base_uri": "https://localhost:8080/"
        },
        "id": "WHVZrLVWR_na",
        "outputId": "95822a18-9581-410e-ea14-50729aa1d425"
      },
      "execution_count": null,
      "outputs": [
        {
          "output_type": "execute_result",
          "data": {
            "text/plain": [
              "0"
            ]
          },
          "metadata": {},
          "execution_count": 73
        }
      ]
    },
    {
      "cell_type": "markdown",
      "source": [
        "Untuk data customer_id sebaiknya dihiraukan saja. karena hanya menampilkan nomor kepesertaan nasabah saja. data yang terduplikasi 0."
      ],
      "metadata": {
        "id": "ZUknYGtl2Lr7"
      }
    },
    {
      "cell_type": "code",
      "source": [
        "# Drop the columns as explained above\n",
        "BC = BC.drop([\"customer_id\"], axis = 1)"
      ],
      "metadata": {
        "id": "arEB9Y0x1NUF"
      },
      "execution_count": null,
      "outputs": []
    },
    {
      "cell_type": "code",
      "source": [
        "# Review the top rows of what is left of the data frame\n",
        "BC.head()\n",
        "\n"
      ],
      "metadata": {
        "colab": {
          "base_uri": "https://localhost:8080/",
          "height": 206
        },
        "id": "O7Cx-HqY1NX_",
        "outputId": "5a6361a7-e248-416e-d8ae-02ddabe7877f"
      },
      "execution_count": null,
      "outputs": [
        {
          "output_type": "execute_result",
          "data": {
            "text/plain": [
              "   credit_score country  gender  age  tenure    balance  products_number  \\\n",
              "0           619  France  Female   42       2       0.00                1   \n",
              "1           608   Spain  Female   41       1   83807.86                1   \n",
              "2           502  France  Female   42       8  159660.80                3   \n",
              "3           699  France  Female   39       1       0.00                2   \n",
              "4           850   Spain  Female   43       2  125510.82                1   \n",
              "\n",
              "   credit_card  active_member  estimated_salary  churn  \n",
              "0            1              1         101348.88      1  \n",
              "1            0              1         112542.58      0  \n",
              "2            1              0         113931.57      1  \n",
              "3            0              0          93826.63      0  \n",
              "4            1              1          79084.10      0  "
            ],
            "text/html": [
              "\n",
              "  <div id=\"df-abac5495-2d5c-4a12-bd79-8e9d55a2ef57\">\n",
              "    <div class=\"colab-df-container\">\n",
              "      <div>\n",
              "<style scoped>\n",
              "    .dataframe tbody tr th:only-of-type {\n",
              "        vertical-align: middle;\n",
              "    }\n",
              "\n",
              "    .dataframe tbody tr th {\n",
              "        vertical-align: top;\n",
              "    }\n",
              "\n",
              "    .dataframe thead th {\n",
              "        text-align: right;\n",
              "    }\n",
              "</style>\n",
              "<table border=\"1\" class=\"dataframe\">\n",
              "  <thead>\n",
              "    <tr style=\"text-align: right;\">\n",
              "      <th></th>\n",
              "      <th>credit_score</th>\n",
              "      <th>country</th>\n",
              "      <th>gender</th>\n",
              "      <th>age</th>\n",
              "      <th>tenure</th>\n",
              "      <th>balance</th>\n",
              "      <th>products_number</th>\n",
              "      <th>credit_card</th>\n",
              "      <th>active_member</th>\n",
              "      <th>estimated_salary</th>\n",
              "      <th>churn</th>\n",
              "    </tr>\n",
              "  </thead>\n",
              "  <tbody>\n",
              "    <tr>\n",
              "      <th>0</th>\n",
              "      <td>619</td>\n",
              "      <td>France</td>\n",
              "      <td>Female</td>\n",
              "      <td>42</td>\n",
              "      <td>2</td>\n",
              "      <td>0.00</td>\n",
              "      <td>1</td>\n",
              "      <td>1</td>\n",
              "      <td>1</td>\n",
              "      <td>101348.88</td>\n",
              "      <td>1</td>\n",
              "    </tr>\n",
              "    <tr>\n",
              "      <th>1</th>\n",
              "      <td>608</td>\n",
              "      <td>Spain</td>\n",
              "      <td>Female</td>\n",
              "      <td>41</td>\n",
              "      <td>1</td>\n",
              "      <td>83807.86</td>\n",
              "      <td>1</td>\n",
              "      <td>0</td>\n",
              "      <td>1</td>\n",
              "      <td>112542.58</td>\n",
              "      <td>0</td>\n",
              "    </tr>\n",
              "    <tr>\n",
              "      <th>2</th>\n",
              "      <td>502</td>\n",
              "      <td>France</td>\n",
              "      <td>Female</td>\n",
              "      <td>42</td>\n",
              "      <td>8</td>\n",
              "      <td>159660.80</td>\n",
              "      <td>3</td>\n",
              "      <td>1</td>\n",
              "      <td>0</td>\n",
              "      <td>113931.57</td>\n",
              "      <td>1</td>\n",
              "    </tr>\n",
              "    <tr>\n",
              "      <th>3</th>\n",
              "      <td>699</td>\n",
              "      <td>France</td>\n",
              "      <td>Female</td>\n",
              "      <td>39</td>\n",
              "      <td>1</td>\n",
              "      <td>0.00</td>\n",
              "      <td>2</td>\n",
              "      <td>0</td>\n",
              "      <td>0</td>\n",
              "      <td>93826.63</td>\n",
              "      <td>0</td>\n",
              "    </tr>\n",
              "    <tr>\n",
              "      <th>4</th>\n",
              "      <td>850</td>\n",
              "      <td>Spain</td>\n",
              "      <td>Female</td>\n",
              "      <td>43</td>\n",
              "      <td>2</td>\n",
              "      <td>125510.82</td>\n",
              "      <td>1</td>\n",
              "      <td>1</td>\n",
              "      <td>1</td>\n",
              "      <td>79084.10</td>\n",
              "      <td>0</td>\n",
              "    </tr>\n",
              "  </tbody>\n",
              "</table>\n",
              "</div>\n",
              "      <button class=\"colab-df-convert\" onclick=\"convertToInteractive('df-abac5495-2d5c-4a12-bd79-8e9d55a2ef57')\"\n",
              "              title=\"Convert this dataframe to an interactive table.\"\n",
              "              style=\"display:none;\">\n",
              "        \n",
              "  <svg xmlns=\"http://www.w3.org/2000/svg\" height=\"24px\"viewBox=\"0 0 24 24\"\n",
              "       width=\"24px\">\n",
              "    <path d=\"M0 0h24v24H0V0z\" fill=\"none\"/>\n",
              "    <path d=\"M18.56 5.44l.94 2.06.94-2.06 2.06-.94-2.06-.94-.94-2.06-.94 2.06-2.06.94zm-11 1L8.5 8.5l.94-2.06 2.06-.94-2.06-.94L8.5 2.5l-.94 2.06-2.06.94zm10 10l.94 2.06.94-2.06 2.06-.94-2.06-.94-.94-2.06-.94 2.06-2.06.94z\"/><path d=\"M17.41 7.96l-1.37-1.37c-.4-.4-.92-.59-1.43-.59-.52 0-1.04.2-1.43.59L10.3 9.45l-7.72 7.72c-.78.78-.78 2.05 0 2.83L4 21.41c.39.39.9.59 1.41.59.51 0 1.02-.2 1.41-.59l7.78-7.78 2.81-2.81c.8-.78.8-2.07 0-2.86zM5.41 20L4 18.59l7.72-7.72 1.47 1.35L5.41 20z\"/>\n",
              "  </svg>\n",
              "      </button>\n",
              "      \n",
              "  <style>\n",
              "    .colab-df-container {\n",
              "      display:flex;\n",
              "      flex-wrap:wrap;\n",
              "      gap: 12px;\n",
              "    }\n",
              "\n",
              "    .colab-df-convert {\n",
              "      background-color: #E8F0FE;\n",
              "      border: none;\n",
              "      border-radius: 50%;\n",
              "      cursor: pointer;\n",
              "      display: none;\n",
              "      fill: #1967D2;\n",
              "      height: 32px;\n",
              "      padding: 0 0 0 0;\n",
              "      width: 32px;\n",
              "    }\n",
              "\n",
              "    .colab-df-convert:hover {\n",
              "      background-color: #E2EBFA;\n",
              "      box-shadow: 0px 1px 2px rgba(60, 64, 67, 0.3), 0px 1px 3px 1px rgba(60, 64, 67, 0.15);\n",
              "      fill: #174EA6;\n",
              "    }\n",
              "\n",
              "    [theme=dark] .colab-df-convert {\n",
              "      background-color: #3B4455;\n",
              "      fill: #D2E3FC;\n",
              "    }\n",
              "\n",
              "    [theme=dark] .colab-df-convert:hover {\n",
              "      background-color: #434B5C;\n",
              "      box-shadow: 0px 1px 3px 1px rgba(0, 0, 0, 0.15);\n",
              "      filter: drop-shadow(0px 1px 2px rgba(0, 0, 0, 0.3));\n",
              "      fill: #FFFFFF;\n",
              "    }\n",
              "  </style>\n",
              "\n",
              "      <script>\n",
              "        const buttonEl =\n",
              "          document.querySelector('#df-abac5495-2d5c-4a12-bd79-8e9d55a2ef57 button.colab-df-convert');\n",
              "        buttonEl.style.display =\n",
              "          google.colab.kernel.accessAllowed ? 'block' : 'none';\n",
              "\n",
              "        async function convertToInteractive(key) {\n",
              "          const element = document.querySelector('#df-abac5495-2d5c-4a12-bd79-8e9d55a2ef57');\n",
              "          const dataTable =\n",
              "            await google.colab.kernel.invokeFunction('convertToInteractive',\n",
              "                                                     [key], {});\n",
              "          if (!dataTable) return;\n",
              "\n",
              "          const docLinkHtml = 'Like what you see? Visit the ' +\n",
              "            '<a target=\"_blank\" href=https://colab.research.google.com/notebooks/data_table.ipynb>data table notebook</a>'\n",
              "            + ' to learn more about interactive tables.';\n",
              "          element.innerHTML = '';\n",
              "          dataTable['output_type'] = 'display_data';\n",
              "          await google.colab.output.renderOutput(dataTable, element);\n",
              "          const docLink = document.createElement('div');\n",
              "          docLink.innerHTML = docLinkHtml;\n",
              "          element.appendChild(docLink);\n",
              "        }\n",
              "      </script>\n",
              "    </div>\n",
              "  </div>\n",
              "  "
            ]
          },
          "metadata": {},
          "execution_count": 75
        }
      ]
    },
    {
      "cell_type": "code",
      "source": [
        "BC.dtypes"
      ],
      "metadata": {
        "colab": {
          "base_uri": "https://localhost:8080/"
        },
        "id": "_HF5HwMN1NbY",
        "outputId": "7e9a2313-f9d4-46d0-837c-4d01f7ced3e5"
      },
      "execution_count": null,
      "outputs": [
        {
          "output_type": "execute_result",
          "data": {
            "text/plain": [
              "credit_score          int64\n",
              "country              object\n",
              "gender               object\n",
              "age                   int64\n",
              "tenure                int64\n",
              "balance             float64\n",
              "products_number       int64\n",
              "credit_card           int64\n",
              "active_member         int64\n",
              "estimated_salary    float64\n",
              "churn                 int64\n",
              "dtype: object"
            ]
          },
          "metadata": {},
          "execution_count": 76
        }
      ]
    },
    {
      "cell_type": "code",
      "source": [
        "labels = 'churn', 'retain'\n",
        "sizes = [BC.churn[BC['churn']==1].count(), BC.churn[BC['churn']==0].count()]\n",
        "explode = (0, 0.1)\n",
        "fig1, ax1 = plt.subplots(figsize=(8, 6))\n",
        "ax1.pie(sizes, explode=explode, labels=labels, autopct='%1.1f%%', shadow=True, startangle=90)\n",
        "ax1.axis('equal')\n",
        "plt.title(\"Proportion of customer churn and retain\", size = 20)\n",
        "plt.show()"
      ],
      "metadata": {
        "colab": {
          "base_uri": "https://localhost:8080/",
          "height": 378
        },
        "id": "YnIQsHsl1NiK",
        "outputId": "1ff2e9e0-62be-47b1-87e3-8eec9603f667"
      },
      "execution_count": null,
      "outputs": [
        {
          "output_type": "display_data",
          "data": {
            "text/plain": [
              "<Figure size 576x432 with 1 Axes>"
            ],
            "image/png": "[encoded data removed]"
          },
          "metadata": {}
        }
      ]
    },
    {
      "cell_type": "markdown",
      "source": [
        "Sekitar 20,4 % data nasabah Bank ini yang memutuskan berhenti menggunakan pelayanannya. sekarang saya akan coba untuk mengidentifikasi apakah benar-benar sekitar 20% nasabah di Bank ini berhenti berlangganan dengan membandingkan data pembandingnya 79 % nasabah yang memilih bertahan menggunakan jasa layanannya."
      ],
      "metadata": {
        "id": "jIloLpZWUaoT"
      }
    },
    {
      "cell_type": "code",
      "source": [],
      "metadata": {
        "id": "bNUfFtt51Nlq"
      },
      "execution_count": null,
      "outputs": []
    },
    {
      "cell_type": "markdown",
      "source": [],
      "metadata": {
        "id": "oYrO49lNVINV"
      }
    },
    {
      "cell_type": "code",
      "source": [
        "\n",
        "\n",
        "    #mereview relasi antara churn dengan variabel kategori lainnya\n",
        "\n",
        "    fig, axarr = plt.subplots(2, 2, figsize=(15, 10))\n",
        "    sns.countplot(x='country', hue = 'churn',data = BC, ax=axarr[0][0])\n",
        "    sns.countplot(x='gender', hue = 'churn',data = BC, ax=axarr[0][1])\n",
        "    sns.countplot(x='credit_card', hue = 'churn',data = BC, ax=axarr[1][0])\n",
        "    sns.countplot(x='active_member', hue = 'churn',data = BC, ax=axarr[1][1])\n",
        "\n"
      ],
      "metadata": {
        "id": "pon7S0DV1NpM",
        "colab": {
          "base_uri": "https://localhost:8080/",
          "height": 624
        },
        "outputId": "71d64b6c-520f-4e06-a6fd-b6720a5e51bb"
      },
      "execution_count": null,
      "outputs": [
        {
          "output_type": "execute_result",
          "data": {
            "text/plain": [
              "<matplotlib.axes._subplots.AxesSubplot at 0x7f9fd5ffe990>"
            ]
          },
          "metadata": {},
          "execution_count": 78
        },
        {
          "output_type": "display_data",
          "data": {
            "text/plain": [
              "<Figure size 1080x720 with 4 Axes>"
            ],
            "image/png": "[encoded data removed]"
          },
          "metadata": {
            "needs_background": "light"
          }
        }
      ]
    },
    {
      "cell_type": "markdown",
      "source": [
        "Apa yang saya lihat dari hasil analisa di atas :\n",
        "1. kebanyakan nasabah berada di negara prancis dibandingkan 2 negara lainnya. hal ini bisa timbul karena SDM pada negara spanyol dan german tidak banyak dialokasikan di 2 wilayah tersebut sehingga potensi nasabah yang dapat di grab dan di maintenance sangat kecil.\n",
        "\n",
        "2. Jika dilihat dari segi gender, nasabah wanita memiliki potensi churn lebih besar daripada nasabah pria.\n",
        "\n",
        "3. Jika dilihat dari segi kartu kredit justru yang memiliki kartu kredit lebih banyak berpotensi churn dibandingkan yang tidak memiliki kartu kredit. harus dipertimbangkan lagi kesinambungan satu produk dengan produk lainnya agar dapat mengurangi potensi churn di pengguna kartu kredit.\n",
        "\n",
        "4. Dari segi keaktifan member sangat lah bisa dilihat kalau nasabah yang tidak terlalu aktif akan mengalami potensi churn yang lebih besar. sehingga perlu diperharikan kembali program Bank untuk mengubha perilaku nasabah yang tidak terlalu aktif ini menjadi aktif."
      ],
      "metadata": {
        "id": "jFUUvUTmZulj"
      }
    },
    {
      "cell_type": "code",
      "source": [
        "    # relasi berdasarkan atribut data kontinu\n",
        "    fig, axarr = plt.subplots(3, 2, figsize=(20, 12))\n",
        "    sns.boxplot(y='credit_score',x = 'churn', hue = 'churn',data = BC, ax=axarr[0][0])\n",
        "    sns.boxplot(y='age',x = 'churn', hue = 'churn',data = BC , ax=axarr[0][1])\n",
        "    sns.boxplot(y='tenure',x = 'churn', hue = 'churn',data = BC, ax=axarr[1][0])\n",
        "    sns.boxplot(y='balance',x = 'churn', hue = 'churn',data = BC, ax=axarr[1][1])\n",
        "    sns.boxplot(y='products_number',x = 'churn', hue = 'churn',data = BC, ax=axarr[2][0])\n",
        "    sns.boxplot(y='estimated_salary',x = 'churn', hue = 'churn',data = BC, ax=axarr[2][1])"
      ],
      "metadata": {
        "id": "F2JbPcQh1N2s",
        "colab": {
          "base_uri": "https://localhost:8080/",
          "height": 732
        },
        "outputId": "2449b117-f059-4dab-db4e-2c9380e52b60"
      },
      "execution_count": null,
      "outputs": [
        {
          "output_type": "execute_result",
          "data": {
            "text/plain": [
              "<matplotlib.axes._subplots.AxesSubplot at 0x7f9fd5e46890>"
            ]
          },
          "metadata": {},
          "execution_count": 79
        },
        {
          "output_type": "display_data",
          "data": {
            "text/plain": [
              "<Figure size 1440x864 with 6 Axes>"
            ],
            "image/png": "[encoded data removed]"
          },
          "metadata": {
            "needs_background": "light"
          }
        }
      ]
    },
    {
      "cell_type": "markdown",
      "source": [
        "Apa yang saya dapat : \n",
        "\n",
        "I.Tidak ada perbedaan yang signifikan dalam distribusi skor kredit antara pelanggan yang dipertahankan dan pelanggan yang berhenti.\n",
        "\n",
        "II.Pelanggan yang lebih tua lebih sering beralih daripada pelanggan yang lebih muda yang mengacu pada perbedaan preferensi layanan dalam kategori usia. Bank mungkin perlu meninjau target pasar mereka atau meninjau strategi untuk retensi antara kelompok usia yang berbeda.\n",
        "\n",
        "III.Berkenaan dengan tenor, klien pada kedua ujung ekstrim (menghabiskan sedikit waktu dengan bank atau banyak waktu dengan bank) lebih cenderung churn dibandingkan dengan mereka yang memiliki tenor rata-rata.\n",
        "\n",
        "IV.Perlu menjadi catatan Bank kehilangan pelanggan dengan saldo bank yang signifikan yang kemungkinan akan menekan modal yang tersedia untuk pinjaman.\n",
        "\n",
        "V.Baik produk maupun gaji tidak memiliki pengaruh yang signifikan terhadap kemungkinan churn."
      ],
      "metadata": {
        "id": "aUIbc_H2wnUn"
      }
    },
    {
      "cell_type": "markdown",
      "source": [
        "## **Feature engineering**"
      ],
      "metadata": {
        "id": "anTYOfbiINI7"
      }
    },
    {
      "cell_type": "markdown",
      "source": [
        "penambahan fitur yang mungkin akan berdampak pada churning. menggunakan metode split train dan test data."
      ],
      "metadata": {
        "id": "B0PpeCyoyCG1"
      }
    },
    {
      "cell_type": "code",
      "source": [
        "# Split Train, test data\n",
        "BC_train = BC.sample(frac=0.8,random_state=200)\n",
        "BC_test = BC.drop(BC_train.index)\n",
        "print(len(BC_train))\n",
        "print(len(BC_test))"
      ],
      "metadata": {
        "colab": {
          "base_uri": "https://localhost:8080/"
        },
        "id": "bAijWWUgIcGw",
        "outputId": "35b85855-fe25-4350-a9b0-be562afdbdfc"
      },
      "execution_count": null,
      "outputs": [
        {
          "output_type": "stream",
          "name": "stdout",
          "text": [
            "8000\n",
            "2000\n"
          ]
        }
      ]
    },
    {
      "cell_type": "code",
      "source": [
        "BC_train['BalanceSalaryRatio'] = BC_train.balance/BC_train.estimated_salary\n",
        "sns.boxplot(y='BalanceSalaryRatio',x = 'churn', hue = 'churn',data = BC_train)\n",
        "plt.ylim(-1, 5)"
      ],
      "metadata": {
        "colab": {
          "base_uri": "https://localhost:8080/",
          "height": 301
        },
        "id": "DmkayZzuIwmv",
        "outputId": "be2d5d91-c1e6-4a91-9789-de36b8001a6b"
      },
      "execution_count": null,
      "outputs": [
        {
          "output_type": "execute_result",
          "data": {
            "text/plain": [
              "(-1.0, 5.0)"
            ]
          },
          "metadata": {},
          "execution_count": 81
        },
        {
          "output_type": "display_data",
          "data": {
            "text/plain": [
              "<Figure size 432x288 with 1 Axes>"
            ],
            "image/png": "[encoded data removed]"
          },
          "metadata": {
            "needs_background": "light"
          }
        }
      ]
    },
    {
      "cell_type": "markdown",
      "source": [
        "Disini dapat dilihat bahwa gaji memiliki pengaruh kecil pada kemungkinan pelanggan berhenti berlangganan (churn). Namun jika di telaah kembali, rasio saldo bank dan perkiraan gaji menunjukkan bahwa pelanggan dengan rasio gaji saldo yang lebih tinggi lebih banyak yang churn hal ini membuat khawatir terhadap sumber modal pinjaman Bank tersebut."
      ],
      "metadata": {
        "id": "lSzpUkQEyjRf"
      }
    },
    {
      "cell_type": "code",
      "source": [
        "BC_train['TenureByAge'] = BC_train.tenure/(BC_train.age)\n",
        "sns.boxplot(y='TenureByAge',x = 'churn', hue = 'churn',data = BC_train)\n",
        "plt.ylim(-1, 1)\n",
        "plt.show()"
      ],
      "metadata": {
        "colab": {
          "base_uri": "https://localhost:8080/",
          "height": 283
        },
        "id": "RYb-eMqaLv4C",
        "outputId": "5c5a89d6-6aa4-4f2e-b3fd-ec309301fa77"
      },
      "execution_count": null,
      "outputs": [
        {
          "output_type": "display_data",
          "data": {
            "text/plain": [
              "<Figure size 432x288 with 1 Axes>"
            ],
            "image/png": "[encoded data removed]"
          },
          "metadata": {
            "needs_background": "light"
          }
        }
      ]
    },
    {
      "cell_type": "markdown",
      "source": [
        "yang bisa diambil dari grafik ini bahwa kepesertaan nasabah berdasarkan umur dengan tenor program yang diambil tidak terlalu signifikan berpotensi untuk churn."
      ],
      "metadata": {
        "id": "1x9ywaOR0qvG"
      }
    },
    {
      "cell_type": "code",
      "source": [
        "BC_train['CreditScoreGivenAge'] = BC_train.credit_score/(BC_train.age)"
      ],
      "metadata": {
        "id": "lPAp605VJkIi"
      },
      "execution_count": null,
      "outputs": []
    },
    {
      "cell_type": "code",
      "source": [
        "BC_train.head()"
      ],
      "metadata": {
        "colab": {
          "base_uri": "https://localhost:8080/",
          "height": 206
        },
        "id": "I2rGG48zKoAP",
        "outputId": "80a106dd-3cfe-4853-8704-76a61bc38ec4"
      },
      "execution_count": null,
      "outputs": [
        {
          "output_type": "execute_result",
          "data": {
            "text/plain": [
              "      credit_score  country  gender  age  tenure    balance  products_number  \\\n",
              "8159           461    Spain  Female   25       6       0.00                2   \n",
              "6332           619   France  Female   35       4   90413.12                1   \n",
              "8895           699   France  Female   40       8  122038.34                1   \n",
              "5351           558  Germany    Male   41       2  124227.14                1   \n",
              "4314           638   France    Male   34       5  133501.36                1   \n",
              "\n",
              "      credit_card  active_member  estimated_salary  churn  BalanceSalaryRatio  \\\n",
              "8159            1              1          15306.29      0            0.000000   \n",
              "6332            1              1          20555.21      0            4.398550   \n",
              "8895            1              0         102085.35      0            1.195454   \n",
              "5351            1              1         111184.67      0            1.117305   \n",
              "4314            0              1         155643.04      0            0.857741   \n",
              "\n",
              "      TenureByAge  CreditScoreGivenAge  \n",
              "8159     0.240000            18.440000  \n",
              "6332     0.114286            17.685714  \n",
              "8895     0.200000            17.475000  \n",
              "5351     0.048780            13.609756  \n",
              "4314     0.147059            18.764706  "
            ],
            "text/html": [
              "\n",
              "  <div id=\"df-bbe7ad50-1fb1-4277-b8ba-2b05a274082c\">\n",
              "    <div class=\"colab-df-container\">\n",
              "      <div>\n",
              "<style scoped>\n",
              "    .dataframe tbody tr th:only-of-type {\n",
              "        vertical-align: middle;\n",
              "    }\n",
              "\n",
              "    .dataframe tbody tr th {\n",
              "        vertical-align: top;\n",
              "    }\n",
              "\n",
              "    .dataframe thead th {\n",
              "        text-align: right;\n",
              "    }\n",
              "</style>\n",
              "<table border=\"1\" class=\"dataframe\">\n",
              "  <thead>\n",
              "    <tr style=\"text-align: right;\">\n",
              "      <th></th>\n",
              "      <th>credit_score</th>\n",
              "      <th>country</th>\n",
              "      <th>gender</th>\n",
              "      <th>age</th>\n",
              "      <th>tenure</th>\n",
              "      <th>balance</th>\n",
              "      <th>products_number</th>\n",
              "      <th>credit_card</th>\n",
              "      <th>active_member</th>\n",
              "      <th>estimated_salary</th>\n",
              "      <th>churn</th>\n",
              "      <th>BalanceSalaryRatio</th>\n",
              "      <th>TenureByAge</th>\n",
              "      <th>CreditScoreGivenAge</th>\n",
              "    </tr>\n",
              "  </thead>\n",
              "  <tbody>\n",
              "    <tr>\n",
              "      <th>8159</th>\n",
              "      <td>461</td>\n",
              "      <td>Spain</td>\n",
              "      <td>Female</td>\n",
              "      <td>25</td>\n",
              "      <td>6</td>\n",
              "      <td>0.00</td>\n",
              "      <td>2</td>\n",
              "      <td>1</td>\n",
              "      <td>1</td>\n",
              "      <td>15306.29</td>\n",
              "      <td>0</td>\n",
              "      <td>0.000000</td>\n",
              "      <td>0.240000</td>\n",
              "      <td>18.440000</td>\n",
              "    </tr>\n",
              "    <tr>\n",
              "      <th>6332</th>\n",
              "      <td>619</td>\n",
              "      <td>France</td>\n",
              "      <td>Female</td>\n",
              "      <td>35</td>\n",
              "      <td>4</td>\n",
              "      <td>90413.12</td>\n",
              "      <td>1</td>\n",
              "      <td>1</td>\n",
              "      <td>1</td>\n",
              "      <td>20555.21</td>\n",
              "      <td>0</td>\n",
              "      <td>4.398550</td>\n",
              "      <td>0.114286</td>\n",
              "      <td>17.685714</td>\n",
              "    </tr>\n",
              "    <tr>\n",
              "      <th>8895</th>\n",
              "      <td>699</td>\n",
              "      <td>France</td>\n",
              "      <td>Female</td>\n",
              "      <td>40</td>\n",
              "      <td>8</td>\n",
              "      <td>122038.34</td>\n",
              "      <td>1</td>\n",
              "      <td>1</td>\n",
              "      <td>0</td>\n",
              "      <td>102085.35</td>\n",
              "      <td>0</td>\n",
              "      <td>1.195454</td>\n",
              "      <td>0.200000</td>\n",
              "      <td>17.475000</td>\n",
              "    </tr>\n",
              "    <tr>\n",
              "      <th>5351</th>\n",
              "      <td>558</td>\n",
              "      <td>Germany</td>\n",
              "      <td>Male</td>\n",
              "      <td>41</td>\n",
              "      <td>2</td>\n",
              "      <td>124227.14</td>\n",
              "      <td>1</td>\n",
              "      <td>1</td>\n",
              "      <td>1</td>\n",
              "      <td>111184.67</td>\n",
              "      <td>0</td>\n",
              "      <td>1.117305</td>\n",
              "      <td>0.048780</td>\n",
              "      <td>13.609756</td>\n",
              "    </tr>\n",
              "    <tr>\n",
              "      <th>4314</th>\n",
              "      <td>638</td>\n",
              "      <td>France</td>\n",
              "      <td>Male</td>\n",
              "      <td>34</td>\n",
              "      <td>5</td>\n",
              "      <td>133501.36</td>\n",
              "      <td>1</td>\n",
              "      <td>0</td>\n",
              "      <td>1</td>\n",
              "      <td>155643.04</td>\n",
              "      <td>0</td>\n",
              "      <td>0.857741</td>\n",
              "      <td>0.147059</td>\n",
              "      <td>18.764706</td>\n",
              "    </tr>\n",
              "  </tbody>\n",
              "</table>\n",
              "</div>\n",
              "      <button class=\"colab-df-convert\" onclick=\"convertToInteractive('df-bbe7ad50-1fb1-4277-b8ba-2b05a274082c')\"\n",
              "              title=\"Convert this dataframe to an interactive table.\"\n",
              "              style=\"display:none;\">\n",
              "        \n",
              "  <svg xmlns=\"http://www.w3.org/2000/svg\" height=\"24px\"viewBox=\"0 0 24 24\"\n",
              "       width=\"24px\">\n",
              "    <path d=\"M0 0h24v24H0V0z\" fill=\"none\"/>\n",
              "    <path d=\"M18.56 5.44l.94 2.06.94-2.06 2.06-.94-2.06-.94-.94-2.06-.94 2.06-2.06.94zm-11 1L8.5 8.5l.94-2.06 2.06-.94-2.06-.94L8.5 2.5l-.94 2.06-2.06.94zm10 10l.94 2.06.94-2.06 2.06-.94-2.06-.94-.94-2.06-.94 2.06-2.06.94z\"/><path d=\"M17.41 7.96l-1.37-1.37c-.4-.4-.92-.59-1.43-.59-.52 0-1.04.2-1.43.59L10.3 9.45l-7.72 7.72c-.78.78-.78 2.05 0 2.83L4 21.41c.39.39.9.59 1.41.59.51 0 1.02-.2 1.41-.59l7.78-7.78 2.81-2.81c.8-.78.8-2.07 0-2.86zM5.41 20L4 18.59l7.72-7.72 1.47 1.35L5.41 20z\"/>\n",
              "  </svg>\n",
              "      </button>\n",
              "      \n",
              "  <style>\n",
              "    .colab-df-container {\n",
              "      display:flex;\n",
              "      flex-wrap:wrap;\n",
              "      gap: 12px;\n",
              "    }\n",
              "\n",
              "    .colab-df-convert {\n",
              "      background-color: #E8F0FE;\n",
              "      border: none;\n",
              "      border-radius: 50%;\n",
              "      cursor: pointer;\n",
              "      display: none;\n",
              "      fill: #1967D2;\n",
              "      height: 32px;\n",
              "      padding: 0 0 0 0;\n",
              "      width: 32px;\n",
              "    }\n",
              "\n",
              "    .colab-df-convert:hover {\n",
              "      background-color: #E2EBFA;\n",
              "      box-shadow: 0px 1px 2px rgba(60, 64, 67, 0.3), 0px 1px 3px 1px rgba(60, 64, 67, 0.15);\n",
              "      fill: #174EA6;\n",
              "    }\n",
              "\n",
              "    [theme=dark] .colab-df-convert {\n",
              "      background-color: #3B4455;\n",
              "      fill: #D2E3FC;\n",
              "    }\n",
              "\n",
              "    [theme=dark] .colab-df-convert:hover {\n",
              "      background-color: #434B5C;\n",
              "      box-shadow: 0px 1px 3px 1px rgba(0, 0, 0, 0.15);\n",
              "      filter: drop-shadow(0px 1px 2px rgba(0, 0, 0, 0.3));\n",
              "      fill: #FFFFFF;\n",
              "    }\n",
              "  </style>\n",
              "\n",
              "      <script>\n",
              "        const buttonEl =\n",
              "          document.querySelector('#df-bbe7ad50-1fb1-4277-b8ba-2b05a274082c button.colab-df-convert');\n",
              "        buttonEl.style.display =\n",
              "          google.colab.kernel.accessAllowed ? 'block' : 'none';\n",
              "\n",
              "        async function convertToInteractive(key) {\n",
              "          const element = document.querySelector('#df-bbe7ad50-1fb1-4277-b8ba-2b05a274082c');\n",
              "          const dataTable =\n",
              "            await google.colab.kernel.invokeFunction('convertToInteractive',\n",
              "                                                     [key], {});\n",
              "          if (!dataTable) return;\n",
              "\n",
              "          const docLinkHtml = 'Like what you see? Visit the ' +\n",
              "            '<a target=\"_blank\" href=https://colab.research.google.com/notebooks/data_table.ipynb>data table notebook</a>'\n",
              "            + ' to learn more about interactive tables.';\n",
              "          element.innerHTML = '';\n",
              "          dataTable['output_type'] = 'display_data';\n",
              "          await google.colab.output.renderOutput(dataTable, element);\n",
              "          const docLink = document.createElement('div');\n",
              "          docLink.innerHTML = docLinkHtml;\n",
              "          element.appendChild(docLink);\n",
              "        }\n",
              "      </script>\n",
              "    </div>\n",
              "  </div>\n",
              "  "
            ]
          },
          "metadata": {},
          "execution_count": 84
        }
      ]
    },
    {
      "cell_type": "markdown",
      "source": [
        "## **Data prep for model fitting**"
      ],
      "metadata": {
        "id": "TArQMSISK5E8"
      }
    },
    {
      "cell_type": "code",
      "source": [
        "continuous_vars = ['credit_score',  'age', 'tenure', 'balance','products_number', 'estimated_salary', 'BalanceSalaryRatio',\n",
        "                   'TenureByAge','CreditScoreGivenAge']\n",
        "cat_vars = ['credit_card', 'active_member','country', 'gender']\n",
        "BC_train = BC_train[['churn'] + continuous_vars + cat_vars]\n",
        "BC_train.head()"
      ],
      "metadata": {
        "colab": {
          "base_uri": "https://localhost:8080/",
          "height": 206
        },
        "id": "KD0mJ0HyK_LF",
        "outputId": "6b82a195-152e-450b-e39d-6b767a64ad76"
      },
      "execution_count": null,
      "outputs": [
        {
          "output_type": "execute_result",
          "data": {
            "text/plain": [
              "      churn  credit_score  age  tenure    balance  products_number  \\\n",
              "8159      0           461   25       6       0.00                2   \n",
              "6332      0           619   35       4   90413.12                1   \n",
              "8895      0           699   40       8  122038.34                1   \n",
              "5351      0           558   41       2  124227.14                1   \n",
              "4314      0           638   34       5  133501.36                1   \n",
              "\n",
              "      estimated_salary  BalanceSalaryRatio  TenureByAge  CreditScoreGivenAge  \\\n",
              "8159          15306.29            0.000000     0.240000            18.440000   \n",
              "6332          20555.21            4.398550     0.114286            17.685714   \n",
              "8895         102085.35            1.195454     0.200000            17.475000   \n",
              "5351         111184.67            1.117305     0.048780            13.609756   \n",
              "4314         155643.04            0.857741     0.147059            18.764706   \n",
              "\n",
              "      credit_card  active_member  country  gender  \n",
              "8159            1              1    Spain  Female  \n",
              "6332            1              1   France  Female  \n",
              "8895            1              0   France  Female  \n",
              "5351            1              1  Germany    Male  \n",
              "4314            0              1   France    Male  "
            ],
            "text/html": [
              "\n",
              "  <div id=\"df-28f3843d-3bb4-485e-9bec-e974f15a8ccb\">\n",
              "    <div class=\"colab-df-container\">\n",
              "      <div>\n",
              "<style scoped>\n",
              "    .dataframe tbody tr th:only-of-type {\n",
              "        vertical-align: middle;\n",
              "    }\n",
              "\n",
              "    .dataframe tbody tr th {\n",
              "        vertical-align: top;\n",
              "    }\n",
              "\n",
              "    .dataframe thead th {\n",
              "        text-align: right;\n",
              "    }\n",
              "</style>\n",
              "<table border=\"1\" class=\"dataframe\">\n",
              "  <thead>\n",
              "    <tr style=\"text-align: right;\">\n",
              "      <th></th>\n",
              "      <th>churn</th>\n",
              "      <th>credit_score</th>\n",
              "      <th>age</th>\n",
              "      <th>tenure</th>\n",
              "      <th>balance</th>\n",
              "      <th>products_number</th>\n",
              "      <th>estimated_salary</th>\n",
              "      <th>BalanceSalaryRatio</th>\n",
              "      <th>TenureByAge</th>\n",
              "      <th>CreditScoreGivenAge</th>\n",
              "      <th>credit_card</th>\n",
              "      <th>active_member</th>\n",
              "      <th>country</th>\n",
              "      <th>gender</th>\n",
              "    </tr>\n",
              "  </thead>\n",
              "  <tbody>\n",
              "    <tr>\n",
              "      <th>8159</th>\n",
              "      <td>0</td>\n",
              "      <td>461</td>\n",
              "      <td>25</td>\n",
              "      <td>6</td>\n",
              "      <td>0.00</td>\n",
              "      <td>2</td>\n",
              "      <td>15306.29</td>\n",
              "      <td>0.000000</td>\n",
              "      <td>0.240000</td>\n",
              "      <td>18.440000</td>\n",
              "      <td>1</td>\n",
              "      <td>1</td>\n",
              "      <td>Spain</td>\n",
              "      <td>Female</td>\n",
              "    </tr>\n",
              "    <tr>\n",
              "      <th>6332</th>\n",
              "      <td>0</td>\n",
              "      <td>619</td>\n",
              "      <td>35</td>\n",
              "      <td>4</td>\n",
              "      <td>90413.12</td>\n",
              "      <td>1</td>\n",
              "      <td>20555.21</td>\n",
              "      <td>4.398550</td>\n",
              "      <td>0.114286</td>\n",
              "      <td>17.685714</td>\n",
              "      <td>1</td>\n",
              "      <td>1</td>\n",
              "      <td>France</td>\n",
              "      <td>Female</td>\n",
              "    </tr>\n",
              "    <tr>\n",
              "      <th>8895</th>\n",
              "      <td>0</td>\n",
              "      <td>699</td>\n",
              "      <td>40</td>\n",
              "      <td>8</td>\n",
              "      <td>122038.34</td>\n",
              "      <td>1</td>\n",
              "      <td>102085.35</td>\n",
              "      <td>1.195454</td>\n",
              "      <td>0.200000</td>\n",
              "      <td>17.475000</td>\n",
              "      <td>1</td>\n",
              "      <td>0</td>\n",
              "      <td>France</td>\n",
              "      <td>Female</td>\n",
              "    </tr>\n",
              "    <tr>\n",
              "      <th>5351</th>\n",
              "      <td>0</td>\n",
              "      <td>558</td>\n",
              "      <td>41</td>\n",
              "      <td>2</td>\n",
              "      <td>124227.14</td>\n",
              "      <td>1</td>\n",
              "      <td>111184.67</td>\n",
              "      <td>1.117305</td>\n",
              "      <td>0.048780</td>\n",
              "      <td>13.609756</td>\n",
              "      <td>1</td>\n",
              "      <td>1</td>\n",
              "      <td>Germany</td>\n",
              "      <td>Male</td>\n",
              "    </tr>\n",
              "    <tr>\n",
              "      <th>4314</th>\n",
              "      <td>0</td>\n",
              "      <td>638</td>\n",
              "      <td>34</td>\n",
              "      <td>5</td>\n",
              "      <td>133501.36</td>\n",
              "      <td>1</td>\n",
              "      <td>155643.04</td>\n",
              "      <td>0.857741</td>\n",
              "      <td>0.147059</td>\n",
              "      <td>18.764706</td>\n",
              "      <td>0</td>\n",
              "      <td>1</td>\n",
              "      <td>France</td>\n",
              "      <td>Male</td>\n",
              "    </tr>\n",
              "  </tbody>\n",
              "</table>\n",
              "</div>\n",
              "      <button class=\"colab-df-convert\" onclick=\"convertToInteractive('df-28f3843d-3bb4-485e-9bec-e974f15a8ccb')\"\n",
              "              title=\"Convert this dataframe to an interactive table.\"\n",
              "              style=\"display:none;\">\n",
              "        \n",
              "  <svg xmlns=\"http://www.w3.org/2000/svg\" height=\"24px\"viewBox=\"0 0 24 24\"\n",
              "       width=\"24px\">\n",
              "    <path d=\"M0 0h24v24H0V0z\" fill=\"none\"/>\n",
              "    <path d=\"M18.56 5.44l.94 2.06.94-2.06 2.06-.94-2.06-.94-.94-2.06-.94 2.06-2.06.94zm-11 1L8.5 8.5l.94-2.06 2.06-.94-2.06-.94L8.5 2.5l-.94 2.06-2.06.94zm10 10l.94 2.06.94-2.06 2.06-.94-2.06-.94-.94-2.06-.94 2.06-2.06.94z\"/><path d=\"M17.41 7.96l-1.37-1.37c-.4-.4-.92-.59-1.43-.59-.52 0-1.04.2-1.43.59L10.3 9.45l-7.72 7.72c-.78.78-.78 2.05 0 2.83L4 21.41c.39.39.9.59 1.41.59.51 0 1.02-.2 1.41-.59l7.78-7.78 2.81-2.81c.8-.78.8-2.07 0-2.86zM5.41 20L4 18.59l7.72-7.72 1.47 1.35L5.41 20z\"/>\n",
              "  </svg>\n",
              "      </button>\n",
              "      \n",
              "  <style>\n",
              "    .colab-df-container {\n",
              "      display:flex;\n",
              "      flex-wrap:wrap;\n",
              "      gap: 12px;\n",
              "    }\n",
              "\n",
              "    .colab-df-convert {\n",
              "      background-color: #E8F0FE;\n",
              "      border: none;\n",
              "      border-radius: 50%;\n",
              "      cursor: pointer;\n",
              "      display: none;\n",
              "      fill: #1967D2;\n",
              "      height: 32px;\n",
              "      padding: 0 0 0 0;\n",
              "      width: 32px;\n",
              "    }\n",
              "\n",
              "    .colab-df-convert:hover {\n",
              "      background-color: #E2EBFA;\n",
              "      box-shadow: 0px 1px 2px rgba(60, 64, 67, 0.3), 0px 1px 3px 1px rgba(60, 64, 67, 0.15);\n",
              "      fill: #174EA6;\n",
              "    }\n",
              "\n",
              "    [theme=dark] .colab-df-convert {\n",
              "      background-color: #3B4455;\n",
              "      fill: #D2E3FC;\n",
              "    }\n",
              "\n",
              "    [theme=dark] .colab-df-convert:hover {\n",
              "      background-color: #434B5C;\n",
              "      box-shadow: 0px 1px 3px 1px rgba(0, 0, 0, 0.15);\n",
              "      filter: drop-shadow(0px 1px 2px rgba(0, 0, 0, 0.3));\n",
              "      fill: #FFFFFF;\n",
              "    }\n",
              "  </style>\n",
              "\n",
              "      <script>\n",
              "        const buttonEl =\n",
              "          document.querySelector('#df-28f3843d-3bb4-485e-9bec-e974f15a8ccb button.colab-df-convert');\n",
              "        buttonEl.style.display =\n",
              "          google.colab.kernel.accessAllowed ? 'block' : 'none';\n",
              "\n",
              "        async function convertToInteractive(key) {\n",
              "          const element = document.querySelector('#df-28f3843d-3bb4-485e-9bec-e974f15a8ccb');\n",
              "          const dataTable =\n",
              "            await google.colab.kernel.invokeFunction('convertToInteractive',\n",
              "                                                     [key], {});\n",
              "          if (!dataTable) return;\n",
              "\n",
              "          const docLinkHtml = 'Like what you see? Visit the ' +\n",
              "            '<a target=\"_blank\" href=https://colab.research.google.com/notebooks/data_table.ipynb>data table notebook</a>'\n",
              "            + ' to learn more about interactive tables.';\n",
              "          element.innerHTML = '';\n",
              "          dataTable['output_type'] = 'display_data';\n",
              "          await google.colab.output.renderOutput(dataTable, element);\n",
              "          const docLink = document.createElement('div');\n",
              "          docLink.innerHTML = docLinkHtml;\n",
              "          element.appendChild(docLink);\n",
              "        }\n",
              "      </script>\n",
              "    </div>\n",
              "  </div>\n",
              "  "
            ]
          },
          "metadata": {},
          "execution_count": 85
        }
      ]
    },
    {
      "cell_type": "code",
      "source": [
        "BC_train.loc[BC_train.credit_card == 0, 'credit_card'] = -1\n",
        "BC_train.loc[BC_train.active_member == 0, 'active_member'] = -1\n",
        "BC_train.head()"
      ],
      "metadata": {
        "colab": {
          "base_uri": "https://localhost:8080/",
          "height": 206
        },
        "id": "wQ6om-iyMgMY",
        "outputId": "7151f0ac-981c-441f-d73e-f92ba2107593"
      },
      "execution_count": null,
      "outputs": [
        {
          "output_type": "execute_result",
          "data": {
            "text/plain": [
              "      churn  credit_score  age  tenure    balance  products_number  \\\n",
              "8159      0           461   25       6       0.00                2   \n",
              "6332      0           619   35       4   90413.12                1   \n",
              "8895      0           699   40       8  122038.34                1   \n",
              "5351      0           558   41       2  124227.14                1   \n",
              "4314      0           638   34       5  133501.36                1   \n",
              "\n",
              "      estimated_salary  BalanceSalaryRatio  TenureByAge  CreditScoreGivenAge  \\\n",
              "8159          15306.29            0.000000     0.240000            18.440000   \n",
              "6332          20555.21            4.398550     0.114286            17.685714   \n",
              "8895         102085.35            1.195454     0.200000            17.475000   \n",
              "5351         111184.67            1.117305     0.048780            13.609756   \n",
              "4314         155643.04            0.857741     0.147059            18.764706   \n",
              "\n",
              "      credit_card  active_member  country  gender  \n",
              "8159            1              1    Spain  Female  \n",
              "6332            1              1   France  Female  \n",
              "8895            1             -1   France  Female  \n",
              "5351            1              1  Germany    Male  \n",
              "4314           -1              1   France    Male  "
            ],
            "text/html": [
              "\n",
              "  <div id=\"df-a7eb44a1-1bdb-4787-9965-c534c9b0857f\">\n",
              "    <div class=\"colab-df-container\">\n",
              "      <div>\n",
              "<style scoped>\n",
              "    .dataframe tbody tr th:only-of-type {\n",
              "        vertical-align: middle;\n",
              "    }\n",
              "\n",
              "    .dataframe tbody tr th {\n",
              "        vertical-align: top;\n",
              "    }\n",
              "\n",
              "    .dataframe thead th {\n",
              "        text-align: right;\n",
              "    }\n",
              "</style>\n",
              "<table border=\"1\" class=\"dataframe\">\n",
              "  <thead>\n",
              "    <tr style=\"text-align: right;\">\n",
              "      <th></th>\n",
              "      <th>churn</th>\n",
              "      <th>credit_score</th>\n",
              "      <th>age</th>\n",
              "      <th>tenure</th>\n",
              "      <th>balance</th>\n",
              "      <th>products_number</th>\n",
              "      <th>estimated_salary</th>\n",
              "      <th>BalanceSalaryRatio</th>\n",
              "      <th>TenureByAge</th>\n",
              "      <th>CreditScoreGivenAge</th>\n",
              "      <th>credit_card</th>\n",
              "      <th>active_member</th>\n",
              "      <th>country</th>\n",
              "      <th>gender</th>\n",
              "    </tr>\n",
              "  </thead>\n",
              "  <tbody>\n",
              "    <tr>\n",
              "      <th>8159</th>\n",
              "      <td>0</td>\n",
              "      <td>461</td>\n",
              "      <td>25</td>\n",
              "      <td>6</td>\n",
              "      <td>0.00</td>\n",
              "      <td>2</td>\n",
              "      <td>15306.29</td>\n",
              "      <td>0.000000</td>\n",
              "      <td>0.240000</td>\n",
              "      <td>18.440000</td>\n",
              "      <td>1</td>\n",
              "      <td>1</td>\n",
              "      <td>Spain</td>\n",
              "      <td>Female</td>\n",
              "    </tr>\n",
              "    <tr>\n",
              "      <th>6332</th>\n",
              "      <td>0</td>\n",
              "      <td>619</td>\n",
              "      <td>35</td>\n",
              "      <td>4</td>\n",
              "      <td>90413.12</td>\n",
              "      <td>1</td>\n",
              "      <td>20555.21</td>\n",
              "      <td>4.398550</td>\n",
              "      <td>0.114286</td>\n",
              "      <td>17.685714</td>\n",
              "      <td>1</td>\n",
              "      <td>1</td>\n",
              "      <td>France</td>\n",
              "      <td>Female</td>\n",
              "    </tr>\n",
              "    <tr>\n",
              "      <th>8895</th>\n",
              "      <td>0</td>\n",
              "      <td>699</td>\n",
              "      <td>40</td>\n",
              "      <td>8</td>\n",
              "      <td>122038.34</td>\n",
              "      <td>1</td>\n",
              "      <td>102085.35</td>\n",
              "      <td>1.195454</td>\n",
              "      <td>0.200000</td>\n",
              "      <td>17.475000</td>\n",
              "      <td>1</td>\n",
              "      <td>-1</td>\n",
              "      <td>France</td>\n",
              "      <td>Female</td>\n",
              "    </tr>\n",
              "    <tr>\n",
              "      <th>5351</th>\n",
              "      <td>0</td>\n",
              "      <td>558</td>\n",
              "      <td>41</td>\n",
              "      <td>2</td>\n",
              "      <td>124227.14</td>\n",
              "      <td>1</td>\n",
              "      <td>111184.67</td>\n",
              "      <td>1.117305</td>\n",
              "      <td>0.048780</td>\n",
              "      <td>13.609756</td>\n",
              "      <td>1</td>\n",
              "      <td>1</td>\n",
              "      <td>Germany</td>\n",
              "      <td>Male</td>\n",
              "    </tr>\n",
              "    <tr>\n",
              "      <th>4314</th>\n",
              "      <td>0</td>\n",
              "      <td>638</td>\n",
              "      <td>34</td>\n",
              "      <td>5</td>\n",
              "      <td>133501.36</td>\n",
              "      <td>1</td>\n",
              "      <td>155643.04</td>\n",
              "      <td>0.857741</td>\n",
              "      <td>0.147059</td>\n",
              "      <td>18.764706</td>\n",
              "      <td>-1</td>\n",
              "      <td>1</td>\n",
              "      <td>France</td>\n",
              "      <td>Male</td>\n",
              "    </tr>\n",
              "  </tbody>\n",
              "</table>\n",
              "</div>\n",
              "      <button class=\"colab-df-convert\" onclick=\"convertToInteractive('df-a7eb44a1-1bdb-4787-9965-c534c9b0857f')\"\n",
              "              title=\"Convert this dataframe to an interactive table.\"\n",
              "              style=\"display:none;\">\n",
              "        \n",
              "  <svg xmlns=\"http://www.w3.org/2000/svg\" height=\"24px\"viewBox=\"0 0 24 24\"\n",
              "       width=\"24px\">\n",
              "    <path d=\"M0 0h24v24H0V0z\" fill=\"none\"/>\n",
              "    <path d=\"M18.56 5.44l.94 2.06.94-2.06 2.06-.94-2.06-.94-.94-2.06-.94 2.06-2.06.94zm-11 1L8.5 8.5l.94-2.06 2.06-.94-2.06-.94L8.5 2.5l-.94 2.06-2.06.94zm10 10l.94 2.06.94-2.06 2.06-.94-2.06-.94-.94-2.06-.94 2.06-2.06.94z\"/><path d=\"M17.41 7.96l-1.37-1.37c-.4-.4-.92-.59-1.43-.59-.52 0-1.04.2-1.43.59L10.3 9.45l-7.72 7.72c-.78.78-.78 2.05 0 2.83L4 21.41c.39.39.9.59 1.41.59.51 0 1.02-.2 1.41-.59l7.78-7.78 2.81-2.81c.8-.78.8-2.07 0-2.86zM5.41 20L4 18.59l7.72-7.72 1.47 1.35L5.41 20z\"/>\n",
              "  </svg>\n",
              "      </button>\n",
              "      \n",
              "  <style>\n",
              "    .colab-df-container {\n",
              "      display:flex;\n",
              "      flex-wrap:wrap;\n",
              "      gap: 12px;\n",
              "    }\n",
              "\n",
              "    .colab-df-convert {\n",
              "      background-color: #E8F0FE;\n",
              "      border: none;\n",
              "      border-radius: 50%;\n",
              "      cursor: pointer;\n",
              "      display: none;\n",
              "      fill: #1967D2;\n",
              "      height: 32px;\n",
              "      padding: 0 0 0 0;\n",
              "      width: 32px;\n",
              "    }\n",
              "\n",
              "    .colab-df-convert:hover {\n",
              "      background-color: #E2EBFA;\n",
              "      box-shadow: 0px 1px 2px rgba(60, 64, 67, 0.3), 0px 1px 3px 1px rgba(60, 64, 67, 0.15);\n",
              "      fill: #174EA6;\n",
              "    }\n",
              "\n",
              "    [theme=dark] .colab-df-convert {\n",
              "      background-color: #3B4455;\n",
              "      fill: #D2E3FC;\n",
              "    }\n",
              "\n",
              "    [theme=dark] .colab-df-convert:hover {\n",
              "      background-color: #434B5C;\n",
              "      box-shadow: 0px 1px 3px 1px rgba(0, 0, 0, 0.15);\n",
              "      filter: drop-shadow(0px 1px 2px rgba(0, 0, 0, 0.3));\n",
              "      fill: #FFFFFF;\n",
              "    }\n",
              "  </style>\n",
              "\n",
              "      <script>\n",
              "        const buttonEl =\n",
              "          document.querySelector('#df-a7eb44a1-1bdb-4787-9965-c534c9b0857f button.colab-df-convert');\n",
              "        buttonEl.style.display =\n",
              "          google.colab.kernel.accessAllowed ? 'block' : 'none';\n",
              "\n",
              "        async function convertToInteractive(key) {\n",
              "          const element = document.querySelector('#df-a7eb44a1-1bdb-4787-9965-c534c9b0857f');\n",
              "          const dataTable =\n",
              "            await google.colab.kernel.invokeFunction('convertToInteractive',\n",
              "                                                     [key], {});\n",
              "          if (!dataTable) return;\n",
              "\n",
              "          const docLinkHtml = 'Like what you see? Visit the ' +\n",
              "            '<a target=\"_blank\" href=https://colab.research.google.com/notebooks/data_table.ipynb>data table notebook</a>'\n",
              "            + ' to learn more about interactive tables.';\n",
              "          element.innerHTML = '';\n",
              "          dataTable['output_type'] = 'display_data';\n",
              "          await google.colab.output.renderOutput(dataTable, element);\n",
              "          const docLink = document.createElement('div');\n",
              "          docLink.innerHTML = docLinkHtml;\n",
              "          element.appendChild(docLink);\n",
              "        }\n",
              "      </script>\n",
              "    </div>\n",
              "  </div>\n",
              "  "
            ]
          },
          "metadata": {},
          "execution_count": 86
        }
      ]
    },
    {
      "cell_type": "code",
      "source": [
        "# One hot encode the categorical variables\n",
        "lst = ['country', 'gender']\n",
        "remove = list()\n",
        "for i in lst:\n",
        "    if (BC_train[i].dtype == np.str or BC_train[i].dtype == np.object):\n",
        "        for j in BC_train[i].unique():\n",
        "            BC_train[i+'_'+j] = np.where(BC_train[i] == j,1,-1)\n",
        "        remove.append(i)\n",
        "BC_train = BC_train.drop(remove, axis=1)\n",
        "BC_train.head()"
      ],
      "metadata": {
        "colab": {
          "base_uri": "https://localhost:8080/",
          "height": 377
        },
        "id": "2LsnOPkMNduE",
        "outputId": "e2e4fa61-159e-41c5-b2a7-9c8452413da3"
      },
      "execution_count": null,
      "outputs": [
        {
          "output_type": "stream",
          "name": "stderr",
          "text": [
            "/usr/local/lib/python3.7/dist-packages/ipykernel_launcher.py:5: DeprecationWarning: `np.str` is a deprecated alias for the builtin `str`. To silence this warning, use `str` by itself. Doing this will not modify any behavior and is safe. If you specifically wanted the numpy scalar type, use `np.str_` here.\n",
            "Deprecated in NumPy 1.20; for more details and guidance: https://numpy.org/devdocs/release/1.20.0-notes.html#deprecations\n",
            "  \"\"\"\n",
            "/usr/local/lib/python3.7/dist-packages/ipykernel_launcher.py:5: DeprecationWarning: `np.object` is a deprecated alias for the builtin `object`. To silence this warning, use `object` by itself. Doing this will not modify any behavior and is safe. \n",
            "Deprecated in NumPy 1.20; for more details and guidance: https://numpy.org/devdocs/release/1.20.0-notes.html#deprecations\n",
            "  \"\"\"\n"
          ]
        },
        {
          "output_type": "execute_result",
          "data": {
            "text/plain": [
              "      churn  credit_score  age  tenure    balance  products_number  \\\n",
              "8159      0           461   25       6       0.00                2   \n",
              "6332      0           619   35       4   90413.12                1   \n",
              "8895      0           699   40       8  122038.34                1   \n",
              "5351      0           558   41       2  124227.14                1   \n",
              "4314      0           638   34       5  133501.36                1   \n",
              "\n",
              "      estimated_salary  BalanceSalaryRatio  TenureByAge  CreditScoreGivenAge  \\\n",
              "8159          15306.29            0.000000     0.240000            18.440000   \n",
              "6332          20555.21            4.398550     0.114286            17.685714   \n",
              "8895         102085.35            1.195454     0.200000            17.475000   \n",
              "5351         111184.67            1.117305     0.048780            13.609756   \n",
              "4314         155643.04            0.857741     0.147059            18.764706   \n",
              "\n",
              "      credit_card  active_member  country_Spain  country_France  \\\n",
              "8159            1              1              1              -1   \n",
              "6332            1              1             -1               1   \n",
              "8895            1             -1             -1               1   \n",
              "5351            1              1             -1              -1   \n",
              "4314           -1              1             -1               1   \n",
              "\n",
              "      country_Germany  gender_Female  gender_Male  \n",
              "8159               -1              1           -1  \n",
              "6332               -1              1           -1  \n",
              "8895               -1              1           -1  \n",
              "5351                1             -1            1  \n",
              "4314               -1             -1            1  "
            ],
            "text/html": [
              "\n",
              "  <div id=\"df-edf6b3ab-7f9b-43ea-86ed-fcdd6473a7be\">\n",
              "    <div class=\"colab-df-container\">\n",
              "      <div>\n",
              "<style scoped>\n",
              "    .dataframe tbody tr th:only-of-type {\n",
              "        vertical-align: middle;\n",
              "    }\n",
              "\n",
              "    .dataframe tbody tr th {\n",
              "        vertical-align: top;\n",
              "    }\n",
              "\n",
              "    .dataframe thead th {\n",
              "        text-align: right;\n",
              "    }\n",
              "</style>\n",
              "<table border=\"1\" class=\"dataframe\">\n",
              "  <thead>\n",
              "    <tr style=\"text-align: right;\">\n",
              "      <th></th>\n",
              "      <th>churn</th>\n",
              "      <th>credit_score</th>\n",
              "      <th>age</th>\n",
              "      <th>tenure</th>\n",
              "      <th>balance</th>\n",
              "      <th>products_number</th>\n",
              "      <th>estimated_salary</th>\n",
              "      <th>BalanceSalaryRatio</th>\n",
              "      <th>TenureByAge</th>\n",
              "      <th>CreditScoreGivenAge</th>\n",
              "      <th>credit_card</th>\n",
              "      <th>active_member</th>\n",
              "      <th>country_Spain</th>\n",
              "      <th>country_France</th>\n",
              "      <th>country_Germany</th>\n",
              "      <th>gender_Female</th>\n",
              "      <th>gender_Male</th>\n",
              "    </tr>\n",
              "  </thead>\n",
              "  <tbody>\n",
              "    <tr>\n",
              "      <th>8159</th>\n",
              "      <td>0</td>\n",
              "      <td>461</td>\n",
              "      <td>25</td>\n",
              "      <td>6</td>\n",
              "      <td>0.00</td>\n",
              "      <td>2</td>\n",
              "      <td>15306.29</td>\n",
              "      <td>0.000000</td>\n",
              "      <td>0.240000</td>\n",
              "      <td>18.440000</td>\n",
              "      <td>1</td>\n",
              "      <td>1</td>\n",
              "      <td>1</td>\n",
              "      <td>-1</td>\n",
              "      <td>-1</td>\n",
              "      <td>1</td>\n",
              "      <td>-1</td>\n",
              "    </tr>\n",
              "    <tr>\n",
              "      <th>6332</th>\n",
              "      <td>0</td>\n",
              "      <td>619</td>\n",
              "      <td>35</td>\n",
              "      <td>4</td>\n",
              "      <td>90413.12</td>\n",
              "      <td>1</td>\n",
              "      <td>20555.21</td>\n",
              "      <td>4.398550</td>\n",
              "      <td>0.114286</td>\n",
              "      <td>17.685714</td>\n",
              "      <td>1</td>\n",
              "      <td>1</td>\n",
              "      <td>-1</td>\n",
              "      <td>1</td>\n",
              "      <td>-1</td>\n",
              "      <td>1</td>\n",
              "      <td>-1</td>\n",
              "    </tr>\n",
              "    <tr>\n",
              "      <th>8895</th>\n",
              "      <td>0</td>\n",
              "      <td>699</td>\n",
              "      <td>40</td>\n",
              "      <td>8</td>\n",
              "      <td>122038.34</td>\n",
              "      <td>1</td>\n",
              "      <td>102085.35</td>\n",
              "      <td>1.195454</td>\n",
              "      <td>0.200000</td>\n",
              "      <td>17.475000</td>\n",
              "      <td>1</td>\n",
              "      <td>-1</td>\n",
              "      <td>-1</td>\n",
              "      <td>1</td>\n",
              "      <td>-1</td>\n",
              "      <td>1</td>\n",
              "      <td>-1</td>\n",
              "    </tr>\n",
              "    <tr>\n",
              "      <th>5351</th>\n",
              "      <td>0</td>\n",
              "      <td>558</td>\n",
              "      <td>41</td>\n",
              "      <td>2</td>\n",
              "      <td>124227.14</td>\n",
              "      <td>1</td>\n",
              "      <td>111184.67</td>\n",
              "      <td>1.117305</td>\n",
              "      <td>0.048780</td>\n",
              "      <td>13.609756</td>\n",
              "      <td>1</td>\n",
              "      <td>1</td>\n",
              "      <td>-1</td>\n",
              "      <td>-1</td>\n",
              "      <td>1</td>\n",
              "      <td>-1</td>\n",
              "      <td>1</td>\n",
              "    </tr>\n",
              "    <tr>\n",
              "      <th>4314</th>\n",
              "      <td>0</td>\n",
              "      <td>638</td>\n",
              "      <td>34</td>\n",
              "      <td>5</td>\n",
              "      <td>133501.36</td>\n",
              "      <td>1</td>\n",
              "      <td>155643.04</td>\n",
              "      <td>0.857741</td>\n",
              "      <td>0.147059</td>\n",
              "      <td>18.764706</td>\n",
              "      <td>-1</td>\n",
              "      <td>1</td>\n",
              "      <td>-1</td>\n",
              "      <td>1</td>\n",
              "      <td>-1</td>\n",
              "      <td>-1</td>\n",
              "      <td>1</td>\n",
              "    </tr>\n",
              "  </tbody>\n",
              "</table>\n",
              "</div>\n",
              "      <button class=\"colab-df-convert\" onclick=\"convertToInteractive('df-edf6b3ab-7f9b-43ea-86ed-fcdd6473a7be')\"\n",
              "              title=\"Convert this dataframe to an interactive table.\"\n",
              "              style=\"display:none;\">\n",
              "        \n",
              "  <svg xmlns=\"http://www.w3.org/2000/svg\" height=\"24px\"viewBox=\"0 0 24 24\"\n",
              "       width=\"24px\">\n",
              "    <path d=\"M0 0h24v24H0V0z\" fill=\"none\"/>\n",
              "    <path d=\"M18.56 5.44l.94 2.06.94-2.06 2.06-.94-2.06-.94-.94-2.06-.94 2.06-2.06.94zm-11 1L8.5 8.5l.94-2.06 2.06-.94-2.06-.94L8.5 2.5l-.94 2.06-2.06.94zm10 10l.94 2.06.94-2.06 2.06-.94-2.06-.94-.94-2.06-.94 2.06-2.06.94z\"/><path d=\"M17.41 7.96l-1.37-1.37c-.4-.4-.92-.59-1.43-.59-.52 0-1.04.2-1.43.59L10.3 9.45l-7.72 7.72c-.78.78-.78 2.05 0 2.83L4 21.41c.39.39.9.59 1.41.59.51 0 1.02-.2 1.41-.59l7.78-7.78 2.81-2.81c.8-.78.8-2.07 0-2.86zM5.41 20L4 18.59l7.72-7.72 1.47 1.35L5.41 20z\"/>\n",
              "  </svg>\n",
              "      </button>\n",
              "      \n",
              "  <style>\n",
              "    .colab-df-container {\n",
              "      display:flex;\n",
              "      flex-wrap:wrap;\n",
              "      gap: 12px;\n",
              "    }\n",
              "\n",
              "    .colab-df-convert {\n",
              "      background-color: #E8F0FE;\n",
              "      border: none;\n",
              "      border-radius: 50%;\n",
              "      cursor: pointer;\n",
              "      display: none;\n",
              "      fill: #1967D2;\n",
              "      height: 32px;\n",
              "      padding: 0 0 0 0;\n",
              "      width: 32px;\n",
              "    }\n",
              "\n",
              "    .colab-df-convert:hover {\n",
              "      background-color: #E2EBFA;\n",
              "      box-shadow: 0px 1px 2px rgba(60, 64, 67, 0.3), 0px 1px 3px 1px rgba(60, 64, 67, 0.15);\n",
              "      fill: #174EA6;\n",
              "    }\n",
              "\n",
              "    [theme=dark] .colab-df-convert {\n",
              "      background-color: #3B4455;\n",
              "      fill: #D2E3FC;\n",
              "    }\n",
              "\n",
              "    [theme=dark] .colab-df-convert:hover {\n",
              "      background-color: #434B5C;\n",
              "      box-shadow: 0px 1px 3px 1px rgba(0, 0, 0, 0.15);\n",
              "      filter: drop-shadow(0px 1px 2px rgba(0, 0, 0, 0.3));\n",
              "      fill: #FFFFFF;\n",
              "    }\n",
              "  </style>\n",
              "\n",
              "      <script>\n",
              "        const buttonEl =\n",
              "          document.querySelector('#df-edf6b3ab-7f9b-43ea-86ed-fcdd6473a7be button.colab-df-convert');\n",
              "        buttonEl.style.display =\n",
              "          google.colab.kernel.accessAllowed ? 'block' : 'none';\n",
              "\n",
              "        async function convertToInteractive(key) {\n",
              "          const element = document.querySelector('#df-edf6b3ab-7f9b-43ea-86ed-fcdd6473a7be');\n",
              "          const dataTable =\n",
              "            await google.colab.kernel.invokeFunction('convertToInteractive',\n",
              "                                                     [key], {});\n",
              "          if (!dataTable) return;\n",
              "\n",
              "          const docLinkHtml = 'Like what you see? Visit the ' +\n",
              "            '<a target=\"_blank\" href=https://colab.research.google.com/notebooks/data_table.ipynb>data table notebook</a>'\n",
              "            + ' to learn more about interactive tables.';\n",
              "          element.innerHTML = '';\n",
              "          dataTable['output_type'] = 'display_data';\n",
              "          await google.colab.output.renderOutput(dataTable, element);\n",
              "          const docLink = document.createElement('div');\n",
              "          docLink.innerHTML = docLinkHtml;\n",
              "          element.appendChild(docLink);\n",
              "        }\n",
              "      </script>\n",
              "    </div>\n",
              "  </div>\n",
              "  "
            ]
          },
          "metadata": {},
          "execution_count": 87
        }
      ]
    },
    {
      "cell_type": "code",
      "source": [
        "# minMax scaling the continuous variables\n",
        "minVec = BC_train[continuous_vars].min().copy()\n",
        "maxVec = BC_train[continuous_vars].max().copy()\n",
        "BC_train[continuous_vars] = (BC_train[continuous_vars]-minVec)/(maxVec-minVec)\n",
        "BC_train.head()"
      ],
      "metadata": {
        "colab": {
          "base_uri": "https://localhost:8080/",
          "height": 270
        },
        "id": "enXkpRXCN0WW",
        "outputId": "b541748e-d329-4db7-cdc9-f904b70ad36d"
      },
      "execution_count": null,
      "outputs": [
        {
          "output_type": "execute_result",
          "data": {
            "text/plain": [
              "      churn  credit_score       age  tenure   balance  products_number  \\\n",
              "8159      0         0.222  0.094595     0.6  0.000000         0.333333   \n",
              "6332      0         0.538  0.229730     0.4  0.360358         0.000000   \n",
              "8895      0         0.698  0.297297     0.8  0.486406         0.000000   \n",
              "5351      0         0.416  0.310811     0.2  0.495130         0.000000   \n",
              "4314      0         0.576  0.216216     0.5  0.532094         0.000000   \n",
              "\n",
              "      estimated_salary  BalanceSalaryRatio  TenureByAge  CreditScoreGivenAge  \\\n",
              "8159          0.076118            0.000000     0.432000             0.323157   \n",
              "6332          0.102376            0.003317     0.205714             0.305211   \n",
              "8895          0.510225            0.000901     0.360000             0.300198   \n",
              "5351          0.555744            0.000843     0.087805             0.208238   \n",
              "4314          0.778145            0.000647     0.264706             0.330882   \n",
              "\n",
              "      credit_card  active_member  country_Spain  country_France  \\\n",
              "8159            1              1              1              -1   \n",
              "6332            1              1             -1               1   \n",
              "8895            1             -1             -1               1   \n",
              "5351            1              1             -1              -1   \n",
              "4314           -1              1             -1               1   \n",
              "\n",
              "      country_Germany  gender_Female  gender_Male  \n",
              "8159               -1              1           -1  \n",
              "6332               -1              1           -1  \n",
              "8895               -1              1           -1  \n",
              "5351                1             -1            1  \n",
              "4314               -1             -1            1  "
            ],
            "text/html": [
              "\n",
              "  <div id=\"df-19c5e842-1c92-43b2-b682-aa66ee1e576e\">\n",
              "    <div class=\"colab-df-container\">\n",
              "      <div>\n",
              "<style scoped>\n",
              "    .dataframe tbody tr th:only-of-type {\n",
              "        vertical-align: middle;\n",
              "    }\n",
              "\n",
              "    .dataframe tbody tr th {\n",
              "        vertical-align: top;\n",
              "    }\n",
              "\n",
              "    .dataframe thead th {\n",
              "        text-align: right;\n",
              "    }\n",
              "</style>\n",
              "<table border=\"1\" class=\"dataframe\">\n",
              "  <thead>\n",
              "    <tr style=\"text-align: right;\">\n",
              "      <th></th>\n",
              "      <th>churn</th>\n",
              "      <th>credit_score</th>\n",
              "      <th>age</th>\n",
              "      <th>tenure</th>\n",
              "      <th>balance</th>\n",
              "      <th>products_number</th>\n",
              "      <th>estimated_salary</th>\n",
              "      <th>BalanceSalaryRatio</th>\n",
              "      <th>TenureByAge</th>\n",
              "      <th>CreditScoreGivenAge</th>\n",
              "      <th>credit_card</th>\n",
              "      <th>active_member</th>\n",
              "      <th>country_Spain</th>\n",
              "      <th>country_France</th>\n",
              "      <th>country_Germany</th>\n",
              "      <th>gender_Female</th>\n",
              "      <th>gender_Male</th>\n",
              "    </tr>\n",
              "  </thead>\n",
              "  <tbody>\n",
              "    <tr>\n",
              "      <th>8159</th>\n",
              "      <td>0</td>\n",
              "      <td>0.222</td>\n",
              "      <td>0.094595</td>\n",
              "      <td>0.6</td>\n",
              "      <td>0.000000</td>\n",
              "      <td>0.333333</td>\n",
              "      <td>0.076118</td>\n",
              "      <td>0.000000</td>\n",
              "      <td>0.432000</td>\n",
              "      <td>0.323157</td>\n",
              "      <td>1</td>\n",
              "      <td>1</td>\n",
              "      <td>1</td>\n",
              "      <td>-1</td>\n",
              "      <td>-1</td>\n",
              "      <td>1</td>\n",
              "      <td>-1</td>\n",
              "    </tr>\n",
              "    <tr>\n",
              "      <th>6332</th>\n",
              "      <td>0</td>\n",
              "      <td>0.538</td>\n",
              "      <td>0.229730</td>\n",
              "      <td>0.4</td>\n",
              "      <td>0.360358</td>\n",
              "      <td>0.000000</td>\n",
              "      <td>0.102376</td>\n",
              "      <td>0.003317</td>\n",
              "      <td>0.205714</td>\n",
              "      <td>0.305211</td>\n",
              "      <td>1</td>\n",
              "      <td>1</td>\n",
              "      <td>-1</td>\n",
              "      <td>1</td>\n",
              "      <td>-1</td>\n",
              "      <td>1</td>\n",
              "      <td>-1</td>\n",
              "    </tr>\n",
              "    <tr>\n",
              "      <th>8895</th>\n",
              "      <td>0</td>\n",
              "      <td>0.698</td>\n",
              "      <td>0.297297</td>\n",
              "      <td>0.8</td>\n",
              "      <td>0.486406</td>\n",
              "      <td>0.000000</td>\n",
              "      <td>0.510225</td>\n",
              "      <td>0.000901</td>\n",
              "      <td>0.360000</td>\n",
              "      <td>0.300198</td>\n",
              "      <td>1</td>\n",
              "      <td>-1</td>\n",
              "      <td>-1</td>\n",
              "      <td>1</td>\n",
              "      <td>-1</td>\n",
              "      <td>1</td>\n",
              "      <td>-1</td>\n",
              "    </tr>\n",
              "    <tr>\n",
              "      <th>5351</th>\n",
              "      <td>0</td>\n",
              "      <td>0.416</td>\n",
              "      <td>0.310811</td>\n",
              "      <td>0.2</td>\n",
              "      <td>0.495130</td>\n",
              "      <td>0.000000</td>\n",
              "      <td>0.555744</td>\n",
              "      <td>0.000843</td>\n",
              "      <td>0.087805</td>\n",
              "      <td>0.208238</td>\n",
              "      <td>1</td>\n",
              "      <td>1</td>\n",
              "      <td>-1</td>\n",
              "      <td>-1</td>\n",
              "      <td>1</td>\n",
              "      <td>-1</td>\n",
              "      <td>1</td>\n",
              "    </tr>\n",
              "    <tr>\n",
              "      <th>4314</th>\n",
              "      <td>0</td>\n",
              "      <td>0.576</td>\n",
              "      <td>0.216216</td>\n",
              "      <td>0.5</td>\n",
              "      <td>0.532094</td>\n",
              "      <td>0.000000</td>\n",
              "      <td>0.778145</td>\n",
              "      <td>0.000647</td>\n",
              "      <td>0.264706</td>\n",
              "      <td>0.330882</td>\n",
              "      <td>-1</td>\n",
              "      <td>1</td>\n",
              "      <td>-1</td>\n",
              "      <td>1</td>\n",
              "      <td>-1</td>\n",
              "      <td>-1</td>\n",
              "      <td>1</td>\n",
              "    </tr>\n",
              "  </tbody>\n",
              "</table>\n",
              "</div>\n",
              "      <button class=\"colab-df-convert\" onclick=\"convertToInteractive('df-19c5e842-1c92-43b2-b682-aa66ee1e576e')\"\n",
              "              title=\"Convert this dataframe to an interactive table.\"\n",
              "              style=\"display:none;\">\n",
              "        \n",
              "  <svg xmlns=\"http://www.w3.org/2000/svg\" height=\"24px\"viewBox=\"0 0 24 24\"\n",
              "       width=\"24px\">\n",
              "    <path d=\"M0 0h24v24H0V0z\" fill=\"none\"/>\n",
              "    <path d=\"M18.56 5.44l.94 2.06.94-2.06 2.06-.94-2.06-.94-.94-2.06-.94 2.06-2.06.94zm-11 1L8.5 8.5l.94-2.06 2.06-.94-2.06-.94L8.5 2.5l-.94 2.06-2.06.94zm10 10l.94 2.06.94-2.06 2.06-.94-2.06-.94-.94-2.06-.94 2.06-2.06.94z\"/><path d=\"M17.41 7.96l-1.37-1.37c-.4-.4-.92-.59-1.43-.59-.52 0-1.04.2-1.43.59L10.3 9.45l-7.72 7.72c-.78.78-.78 2.05 0 2.83L4 21.41c.39.39.9.59 1.41.59.51 0 1.02-.2 1.41-.59l7.78-7.78 2.81-2.81c.8-.78.8-2.07 0-2.86zM5.41 20L4 18.59l7.72-7.72 1.47 1.35L5.41 20z\"/>\n",
              "  </svg>\n",
              "      </button>\n",
              "      \n",
              "  <style>\n",
              "    .colab-df-container {\n",
              "      display:flex;\n",
              "      flex-wrap:wrap;\n",
              "      gap: 12px;\n",
              "    }\n",
              "\n",
              "    .colab-df-convert {\n",
              "      background-color: #E8F0FE;\n",
              "      border: none;\n",
              "      border-radius: 50%;\n",
              "      cursor: pointer;\n",
              "      display: none;\n",
              "      fill: #1967D2;\n",
              "      height: 32px;\n",
              "      padding: 0 0 0 0;\n",
              "      width: 32px;\n",
              "    }\n",
              "\n",
              "    .colab-df-convert:hover {\n",
              "      background-color: #E2EBFA;\n",
              "      box-shadow: 0px 1px 2px rgba(60, 64, 67, 0.3), 0px 1px 3px 1px rgba(60, 64, 67, 0.15);\n",
              "      fill: #174EA6;\n",
              "    }\n",
              "\n",
              "    [theme=dark] .colab-df-convert {\n",
              "      background-color: #3B4455;\n",
              "      fill: #D2E3FC;\n",
              "    }\n",
              "\n",
              "    [theme=dark] .colab-df-convert:hover {\n",
              "      background-color: #434B5C;\n",
              "      box-shadow: 0px 1px 3px 1px rgba(0, 0, 0, 0.15);\n",
              "      filter: drop-shadow(0px 1px 2px rgba(0, 0, 0, 0.3));\n",
              "      fill: #FFFFFF;\n",
              "    }\n",
              "  </style>\n",
              "\n",
              "      <script>\n",
              "        const buttonEl =\n",
              "          document.querySelector('#df-19c5e842-1c92-43b2-b682-aa66ee1e576e button.colab-df-convert');\n",
              "        buttonEl.style.display =\n",
              "          google.colab.kernel.accessAllowed ? 'block' : 'none';\n",
              "\n",
              "        async function convertToInteractive(key) {\n",
              "          const element = document.querySelector('#df-19c5e842-1c92-43b2-b682-aa66ee1e576e');\n",
              "          const dataTable =\n",
              "            await google.colab.kernel.invokeFunction('convertToInteractive',\n",
              "                                                     [key], {});\n",
              "          if (!dataTable) return;\n",
              "\n",
              "          const docLinkHtml = 'Like what you see? Visit the ' +\n",
              "            '<a target=\"_blank\" href=https://colab.research.google.com/notebooks/data_table.ipynb>data table notebook</a>'\n",
              "            + ' to learn more about interactive tables.';\n",
              "          element.innerHTML = '';\n",
              "          dataTable['output_type'] = 'display_data';\n",
              "          await google.colab.output.renderOutput(dataTable, element);\n",
              "          const docLink = document.createElement('div');\n",
              "          docLink.innerHTML = docLinkHtml;\n",
              "          element.appendChild(docLink);\n",
              "        }\n",
              "      </script>\n",
              "    </div>\n",
              "  </div>\n",
              "  "
            ]
          },
          "metadata": {},
          "execution_count": 88
        }
      ]
    },
    {
      "cell_type": "code",
      "source": [
        "# data prep pipeline for test data\n",
        "def BCPrepPipeline(BC_predict,BC_train_Cols,minVec,maxVec):\n",
        "    # Add new features\n",
        "    BC_predict['BalanceSalaryRatio'] = BC_predict.balance/BC_predict.estimated_salary\n",
        "    BC_predict['TenureByAge'] = BC_predict.tenure/(BC_predict.age - 18)\n",
        "    BC_predict['CreditScoreGivenAge'] = BC_predict.credit_score/(BC_predict.age - 18)\n",
        "    # Reorder the columns\n",
        "    continuous_vars = ['credit_score',  'age', 'tenure', 'balance','products_number', 'estimated_salary', 'BalanceSalaryRatio',\n",
        "                   'TenureByAge','CreditScoreGivenAge']\n",
        "    cat_vars = ['credit_card', 'active_member','country', 'gender']\n",
        "    BC_predict = BC_predict[['churn'] + continuous_vars + cat_vars]\n",
        "    # Change the 0 in categorical variables to -1\n",
        "    BC_predict.loc[BC_predict.credit_card == 0, 'credit_card'] = -1\n",
        "    BC_predict.loc[BC_predict.active_member == 0, 'active_member'] = -1\n",
        "    # One hot encode the categorical variables\n",
        "    lst = [\"country\", \"gender\"]\n",
        "    remove = list()\n",
        "    for i in lst:\n",
        "        for j in BC_predict[i].unique():\n",
        "            BC_predict[i+'_'+j] = np.where(BC_predict[i] == j,1,-1)\n",
        "        remove.append(i)\n",
        "    BC_predict = BC_predict.drop(remove, axis=1)\n",
        "    # Ensure that all one hot encoded variables that appear in the train data appear in the subsequent data\n",
        "    L = list(set(BC_train_Cols) - set(BC_predict.columns))\n",
        "    for l in L:\n",
        "        BC_predict[str(l)] = -1        \n",
        "    # MinMax scaling coontinuous variables based on min and max from the train data\n",
        "    BC_predict[continuous_vars] = (BC_predict[continuous_vars]-minVec)/(maxVec-minVec)\n",
        "    # Ensure that The variables are ordered in the same way as was ordered in the train set\n",
        "    BC_predict = BC_predict[BC_train_Cols]\n",
        "    return BC_predict\n",
        "\n"
      ],
      "metadata": {
        "id": "6ULTv7iEOIXI"
      },
      "execution_count": null,
      "outputs": []
    },
    {
      "cell_type": "markdown",
      "source": [
        "## **Model fitting and selection**"
      ],
      "metadata": {
        "id": "fUDClkgiQZV8"
      }
    },
    {
      "cell_type": "markdown",
      "source": [
        "\n",
        "Untuk model fitting, saya akan mencoba metode :\n",
        "*   Logistic regression\n",
        "*   SVM\n",
        "*   Random Forest\n",
        "*   Extreme Gradient Boost Classifier"
      ],
      "metadata": {
        "id": "rcz-LXB_3NuO"
      }
    },
    {
      "cell_type": "code",
      "source": [
        "# Support functions\n",
        "from sklearn.preprocessing import PolynomialFeatures\n",
        "from sklearn.model_selection import cross_val_score\n",
        "from sklearn.model_selection import GridSearchCV\n",
        "from scipy.stats import uniform\n",
        "\n",
        "# Fit models\n",
        "from sklearn.linear_model import LogisticRegression\n",
        "from sklearn.svm import SVC\n",
        "from sklearn.ensemble import RandomForestClassifier\n",
        "from xgboost import XGBClassifier\n",
        "\n",
        "# Scoring functions\n",
        "from sklearn.metrics import accuracy_score\n",
        "from sklearn.metrics import classification_report\n",
        "from sklearn.metrics import roc_auc_score\n",
        "from sklearn.metrics import roc_curve"
      ],
      "metadata": {
        "id": "XRz89xDgQfiW"
      },
      "execution_count": null,
      "outputs": []
    },
    {
      "cell_type": "code",
      "source": [
        "# Function to give best model score and parameters\n",
        "def best_model(model):\n",
        "    print(model.best_score_)    \n",
        "    print(model.best_params_)\n",
        "    print(model.best_estimator_)\n",
        "def get_auc_scores(y_actual, method,method2):\n",
        "    auc_score = roc_auc_score(y_actual, method); \n",
        "    fpr_BC, tpr_BC, _ = roc_curve(y_actual, method2); \n",
        "    return (auc_score, fpr_BC, tpr_BC)"
      ],
      "metadata": {
        "id": "N1l19eUUQrfT"
      },
      "execution_count": null,
      "outputs": []
    },
    {
      "cell_type": "markdown",
      "source": [
        "NOTE : Bagian dibawah ini membutuhkan waktu yang sangat lama ketika dijalankan sehigga saya lewatkan kebagian berikutnya yang mana proses runningnya tidak membutuhkan waktu yang lama. lanjut ke bagian fit best model."
      ],
      "metadata": {
        "id": "ZchzCzDh4nv_"
      }
    },
    {
      "cell_type": "code",
      "source": [
        "\n",
        "# Fit primal logistic regression\n",
        "#param_grid = {'C': [0.1,0.5,1,10,50,100], 'max_iter': [250], 'fit_intercept':[True],'intercept_scaling':[1],\n",
        "#              'penalty':['l2'], 'tol':[0.00001,0.0001,0.000001]}\n",
        "#log_primal_Grid = GridSearchCV(LogisticRegression(solver='lbfgs'),param_grid, cv=10, refit=True, verbose=0)\n",
        "#log_primal_Grid.fit(BC_train.loc[:, BC_train.columns != 'churn'],BC_train.churn)\n",
        "#best_model(log_primal_Grid)\n",
        "\n"
      ],
      "metadata": {
        "id": "mX2eBzHSQvi1"
      },
      "execution_count": null,
      "outputs": []
    },
    {
      "cell_type": "code",
      "source": [
        "# Fit logistic regression with degree 2 polynomial kernel\n",
        "#param_grid = {'C': [0.1,10,50], 'max_iter': [300,500], 'fit_intercept':[True],'intercept_scaling':[1],'penalty':['l2'],\n",
        "              #'tol':[0.0001,0.000001]}\n",
        "#poly2 = PolynomialFeatures(degree=2)\n",
        "#BC_train_pol2 = poly2.fit_transform(BC_train.loc[:, BC_train.columns != 'churn'])\n",
        "#log_pol2_Grid = GridSearchCV(LogisticRegression(solver = 'liblinear'),param_grid, cv=5, refit=True, verbose=0)\n",
        "#log_pol2_Grid.fit(BC_train_pol2,BC_train.churn)\n",
        "#best_model(log_pol2_Grid)\n",
        "\n"
      ],
      "metadata": {
        "id": "MYmpDNjjRa3_"
      },
      "execution_count": null,
      "outputs": []
    },
    {
      "cell_type": "code",
      "source": [
        "# Fit SVM with RBF Kernel\n",
        "#param_grid = {'C': [0.5,100,150], 'gamma': [0.1,0.01,0.001],'probability':[True],'kernel': ['rbf']}\n",
        "#SVM_grid = GridSearchCV(SVC(), param_grid, cv=3, refit=True, verbose=0)\n",
        "#SVM_grid.fit(BC_train.loc[:, BC_train.columns != 'churn'],BC_train.churn)\n",
        "#best_model(SVM_grid)\n"
      ],
      "metadata": {
        "id": "ywzNaPIpS3a9"
      },
      "execution_count": null,
      "outputs": []
    },
    {
      "cell_type": "code",
      "source": [
        "# Fit SVM with RBF Kernel\n",
        "#param_grid = {'C': [0.5,100,150], 'gamma': [0.1,0.01,0.001],'probability':[True],'kernel': ['rbf']}\n",
        "#SVM_grid = GridSearchCV(SVC(), param_grid, cv=3, refit=True, verbose=0)\n",
        "#SVM_grid.fit(BC_train.loc[:, BC_train.columns != 'churn'],BC_train.churn)\n",
        "#best_model(SVM_grid)"
      ],
      "metadata": {
        "id": "6Sr3IvWqXgPZ"
      },
      "execution_count": null,
      "outputs": []
    },
    {
      "cell_type": "code",
      "source": [
        "# Fit random forest classifier\n",
        "#param_grid = {'max_depth': [3, 5, 6, 7, 8], 'max_features': [2,4,6,7,8,9],'n_estimators':[50,100],'min_samples_split': [3, 5, 6, 7]}\n",
        "#RanFor_grid = GridSearchCV(RandomForestClassifier(), param_grid, cv=5, refit=True, verbose=0)\n",
        "#RanFor_grid.fit(BC_train.loc[:, BC_train.columns != 'churn'],BC_train.churn)\n",
        "#best_model(RanFor_grid)"
      ],
      "metadata": {
        "id": "ru6WQfRxXgMB"
      },
      "execution_count": null,
      "outputs": []
    },
    {
      "cell_type": "code",
      "source": [
        "# Fit Extreme Gradient boosting classifier\n",
        "#param_grid = {'max_depth': [5,6,7,8], 'gamma': [0.01,0.001,0.001],'min_child_weight':[1,5,10], 'learning_rate': [0.05,0.1, 0.2, 0.3], 'n_estimators':[5,10,20,100]}\n",
        "#xgb_grid = GridSearchCV(XGBClassifier(), param_grid, cv=5, refit=True, verbose=0)\n",
        "#xgb_grid.fit(BC_train.loc[:, BC_train.columns != 'churn'],BC_train.churn)\n",
        "#best_model(xgb_grid)"
      ],
      "metadata": {
        "id": "62Ic612iXgFg"
      },
      "execution_count": null,
      "outputs": []
    },
    {
      "cell_type": "markdown",
      "source": [
        "## **Fit best Models**"
      ],
      "metadata": {
        "id": "_eks0RChYrhp"
      }
    },
    {
      "cell_type": "code",
      "source": [
        "# Fit primal logistic regression\n",
        "log_primal = LogisticRegression(C=100, class_weight=None, dual=False, fit_intercept=True,intercept_scaling=1, max_iter=250, multi_class='auto',n_jobs=None, \n",
        "                                penalty='l2', random_state=None, solver='lbfgs',tol=0.0001, verbose=0, warm_start=False)\n",
        "log_primal.fit(BC_train.loc[:, BC_train.columns != 'churn'],BC_train.churn)"
      ],
      "metadata": {
        "colab": {
          "base_uri": "https://localhost:8080/"
        },
        "id": "Nh4nDAzGXgCA",
        "outputId": "72a0e1ff-d766-411a-89a5-1e509978e17d"
      },
      "execution_count": null,
      "outputs": [
        {
          "output_type": "execute_result",
          "data": {
            "text/plain": [
              "LogisticRegression(C=100, max_iter=250)"
            ]
          },
          "metadata": {},
          "execution_count": 98
        }
      ]
    },
    {
      "cell_type": "code",
      "source": [
        "# Fit logistic regression with pol 2 kernel\n",
        "poly2 = PolynomialFeatures(degree=2)\n",
        "BC_train_pol2 = poly2.fit_transform(BC_train.loc[:, BC_train.columns != 'churn'])\n",
        "log_pol2 = LogisticRegression(C=10, class_weight=None, dual=False, fit_intercept=True,intercept_scaling=1, max_iter=300, multi_class='auto', n_jobs=None, \n",
        "                              penalty='l2', random_state=None, solver='liblinear',tol=0.0001, verbose=0, warm_start=False)\n",
        "log_pol2.fit(BC_train_pol2,BC_train.churn)"
      ],
      "metadata": {
        "colab": {
          "base_uri": "https://localhost:8080/"
        },
        "id": "EPP7-Qw-Xf81",
        "outputId": "80d749f7-92a8-41a9-bc0a-1ec107c3d6f4"
      },
      "execution_count": null,
      "outputs": [
        {
          "output_type": "execute_result",
          "data": {
            "text/plain": [
              "LogisticRegression(C=10, max_iter=300, solver='liblinear')"
            ]
          },
          "metadata": {},
          "execution_count": 99
        }
      ]
    },
    {
      "cell_type": "code",
      "source": [
        "# Fit SVM with RBF Kernel\n",
        "SVM_RBF = SVC(C=100, cache_size=200, class_weight=None, coef0=0.0, decision_function_shape='ovr', degree=3, gamma=0.1, kernel='rbf', max_iter=-1, probability=True, \n",
        "              random_state=None, shrinking=True,tol=0.001, verbose=False)\n",
        "SVM_RBF.fit(BC_train.loc[:, BC_train.columns != 'churn'],BC_train.churn)"
      ],
      "metadata": {
        "colab": {
          "base_uri": "https://localhost:8080/"
        },
        "id": "qyv24mejXf2A",
        "outputId": "99463739-c699-4d1f-8c37-1fa22d1746f8"
      },
      "execution_count": null,
      "outputs": [
        {
          "output_type": "execute_result",
          "data": {
            "text/plain": [
              "SVC(C=100, gamma=0.1, probability=True)"
            ]
          },
          "metadata": {},
          "execution_count": 100
        }
      ]
    },
    {
      "cell_type": "code",
      "source": [
        "# Fit SVM with Pol Kernel\n",
        "SVM_POL = SVC(C=100, cache_size=200, class_weight=None, coef0=0.0,  decision_function_shape='ovr', degree=2, gamma=0.1, kernel='poly',  max_iter=-1,\n",
        "              probability=True, random_state=None, shrinking=True, tol=0.001, verbose=False)\n",
        "SVM_POL.fit(BC_train.loc[:, BC_train.columns != 'churn'],BC_train.churn)"
      ],
      "metadata": {
        "colab": {
          "base_uri": "https://localhost:8080/"
        },
        "id": "MK6Mk-4BXfrO",
        "outputId": "a711bf39-38b4-49ca-f1e7-6fc57073805f"
      },
      "execution_count": null,
      "outputs": [
        {
          "output_type": "execute_result",
          "data": {
            "text/plain": [
              "SVC(C=100, degree=2, gamma=0.1, kernel='poly', probability=True)"
            ]
          },
          "metadata": {},
          "execution_count": 101
        }
      ]
    },
    {
      "cell_type": "code",
      "source": [
        "# Fit Random Forest classifier\n",
        "RF = RandomForestClassifier(bootstrap=True, class_weight=None, criterion='gini',max_depth=8, max_features=6, max_leaf_nodes=None,min_impurity_decrease=0.0,\n",
        "                            min_samples_leaf=1, min_samples_split=3,min_weight_fraction_leaf=0.0, n_estimators=50, n_jobs=None,\n",
        "                            oob_score=False, random_state=None, verbose=0,warm_start=False)\n",
        "RF.fit(BC_train.loc[:, BC_train.columns != 'churn'],BC_train.churn)\n",
        "\n"
      ],
      "metadata": {
        "colab": {
          "base_uri": "https://localhost:8080/"
        },
        "id": "eeb-PrYeXfTN",
        "outputId": "63aac24c-ee5c-4536-e8bf-d9cfd70d8ae7"
      },
      "execution_count": null,
      "outputs": [
        {
          "output_type": "execute_result",
          "data": {
            "text/plain": [
              "RandomForestClassifier(max_depth=8, max_features=6, min_samples_split=3,\n",
              "                       n_estimators=50)"
            ]
          },
          "metadata": {},
          "execution_count": 102
        }
      ]
    },
    {
      "cell_type": "code",
      "source": [
        "# Fit Extreme Gradient Boost Classifier\n",
        "XGB = XGBClassifier(base_score=0.5, booster='gbtree', colsample_bylevel=1,colsample_bytree=1, gamma=0.01, learning_rate=0.1, max_delta_step=0,max_depth=7,\n",
        "                    min_child_weight=5, missing=None, n_estimators=20,n_jobs=1, nthread=None, objective='binary:logistic', random_state=0,reg_alpha=0, \n",
        "                    reg_lambda=1, scale_pos_weight=1, seed=None, silent=True, subsample=1)\n",
        "XGB.fit(BC_train.loc[:, BC_train.columns != 'churn'],BC_train.churn)"
      ],
      "metadata": {
        "colab": {
          "base_uri": "https://localhost:8080/"
        },
        "id": "MiQca-R9fj4t",
        "outputId": "a9e7f8a8-b4e4-407f-e2e8-1457065377ec"
      },
      "execution_count": null,
      "outputs": [
        {
          "output_type": "execute_result",
          "data": {
            "text/plain": [
              "XGBClassifier(gamma=0.01, max_depth=7, min_child_weight=5, n_estimators=20,\n",
              "              silent=True)"
            ]
          },
          "metadata": {},
          "execution_count": 103
        }
      ]
    },
    {
      "cell_type": "markdown",
      "source": [
        "### **Meninjau akurasi kecocokan model terbaik : Minat yang besar pada kinerja dalam memprediksi Pelanggan yang churn**"
      ],
      "metadata": {
        "id": "Ok0-tt56f-Ow"
      }
    },
    {
      "cell_type": "code",
      "source": [
        "print(classification_report(BC_train.churn, log_primal.predict(BC_train.loc[:, BC_train.columns != 'churn'])))"
      ],
      "metadata": {
        "colab": {
          "base_uri": "https://localhost:8080/"
        },
        "id": "XN2ag5ztfjfW",
        "outputId": "116863c2-990d-45fd-e9d4-3b84c8e15395"
      },
      "execution_count": null,
      "outputs": [
        {
          "output_type": "stream",
          "name": "stdout",
          "text": [
            "              precision    recall  f1-score   support\n",
            "\n",
            "           0       0.83      0.97      0.89      6353\n",
            "           1       0.64      0.24      0.35      1647\n",
            "\n",
            "    accuracy                           0.82      8000\n",
            "   macro avg       0.73      0.60      0.62      8000\n",
            "weighted avg       0.79      0.82      0.78      8000\n",
            "\n"
          ]
        }
      ]
    },
    {
      "cell_type": "code",
      "source": [
        "print(classification_report(BC_train.churn,  log_pol2.predict(BC_train_pol2)))"
      ],
      "metadata": {
        "colab": {
          "base_uri": "https://localhost:8080/"
        },
        "id": "DSbdxWSKL01F",
        "outputId": "c751aab0-d798-4198-db7f-0b4806568bd5"
      },
      "execution_count": null,
      "outputs": [
        {
          "output_type": "stream",
          "name": "stdout",
          "text": [
            "              precision    recall  f1-score   support\n",
            "\n",
            "           0       0.87      0.97      0.92      6353\n",
            "           1       0.77      0.46      0.57      1647\n",
            "\n",
            "    accuracy                           0.86      8000\n",
            "   macro avg       0.82      0.71      0.75      8000\n",
            "weighted avg       0.85      0.86      0.85      8000\n",
            "\n"
          ]
        }
      ]
    },
    {
      "cell_type": "code",
      "source": [
        "print(classification_report(BC_train.churn,  SVM_RBF.predict(BC_train.loc[:, BC_train.columns != 'churn'])))"
      ],
      "metadata": {
        "colab": {
          "base_uri": "https://localhost:8080/"
        },
        "id": "mYTfSHp7MNE7",
        "outputId": "16bbc58a-f079-45ae-d50c-16681eb4bdfd"
      },
      "execution_count": null,
      "outputs": [
        {
          "output_type": "stream",
          "name": "stdout",
          "text": [
            "              precision    recall  f1-score   support\n",
            "\n",
            "           0       0.86      0.98      0.92      6353\n",
            "           1       0.85      0.40      0.54      1647\n",
            "\n",
            "    accuracy                           0.86      8000\n",
            "   macro avg       0.86      0.69      0.73      8000\n",
            "weighted avg       0.86      0.86      0.84      8000\n",
            "\n"
          ]
        }
      ]
    },
    {
      "cell_type": "code",
      "source": [
        "print(classification_report(BC_train.churn,  SVM_POL.predict(BC_train.loc[:, BC_train.columns != 'churn'])))"
      ],
      "metadata": {
        "colab": {
          "base_uri": "https://localhost:8080/"
        },
        "id": "ZXxVqlPCMOYf",
        "outputId": "839215c5-f4d3-46cf-de1e-40e16c53fe29"
      },
      "execution_count": null,
      "outputs": [
        {
          "output_type": "stream",
          "name": "stdout",
          "text": [
            "              precision    recall  f1-score   support\n",
            "\n",
            "           0       0.86      0.98      0.92      6353\n",
            "           1       0.84      0.38      0.52      1647\n",
            "\n",
            "    accuracy                           0.86      8000\n",
            "   macro avg       0.85      0.68      0.72      8000\n",
            "weighted avg       0.85      0.86      0.83      8000\n",
            "\n"
          ]
        }
      ]
    },
    {
      "cell_type": "code",
      "source": [
        "print(classification_report(BC_train.churn,  RF.predict(BC_train.loc[:, BC_train.columns != 'churn'])))"
      ],
      "metadata": {
        "colab": {
          "base_uri": "https://localhost:8080/"
        },
        "id": "089WOvaeqVjT",
        "outputId": "ece8f4ae-7c4a-47af-d06e-3126afa1d3c2"
      },
      "execution_count": null,
      "outputs": [
        {
          "output_type": "stream",
          "name": "stdout",
          "text": [
            "              precision    recall  f1-score   support\n",
            "\n",
            "           0       0.89      0.98      0.93      6353\n",
            "           1       0.88      0.52      0.66      1647\n",
            "\n",
            "    accuracy                           0.89      8000\n",
            "   macro avg       0.89      0.75      0.80      8000\n",
            "weighted avg       0.89      0.89      0.88      8000\n",
            "\n"
          ]
        }
      ]
    },
    {
      "cell_type": "code",
      "source": [
        "print(classification_report(BC_train.churn,  XGB.predict(BC_train.loc[:, BC_train.columns != 'churn'])))"
      ],
      "metadata": {
        "colab": {
          "base_uri": "https://localhost:8080/"
        },
        "id": "8HkKUy8dqsSj",
        "outputId": "89de7a68-0ac9-4247-df0b-0d17dd443f52"
      },
      "execution_count": null,
      "outputs": [
        {
          "output_type": "stream",
          "name": "stdout",
          "text": [
            "              precision    recall  f1-score   support\n",
            "\n",
            "           0       0.89      0.97      0.93      6353\n",
            "           1       0.83      0.53      0.64      1647\n",
            "\n",
            "    accuracy                           0.88      8000\n",
            "   macro avg       0.86      0.75      0.79      8000\n",
            "weighted avg       0.88      0.88      0.87      8000\n",
            "\n"
          ]
        }
      ]
    },
    {
      "cell_type": "code",
      "source": [
        "y = BC_train.churn\n",
        "X = BC_train.loc[:, BC_train.columns != 'churn']\n",
        "X_pol2 = BC_train_pol2\n",
        "auc_log_primal, fpr_log_primal, tpr_log_primal = get_auc_scores(y, log_primal.predict(X),log_primal.predict_proba(X)[:,1])\n",
        "auc_log_pol2, fpr_log_pol2, tpr_log_pol2 = get_auc_scores(y, log_pol2.predict(X_pol2),log_pol2.predict_proba(X_pol2)[:,1])\n",
        "auc_SVM_RBF, fpr_SVM_RBF, tpr_SVM_RBF = get_auc_scores(y, SVM_RBF.predict(X),SVM_RBF.predict_proba(X)[:,1])\n",
        "auc_SVM_POL, fpr_SVM_POL, tpr_SVM_POL = get_auc_scores(y, SVM_POL.predict(X),SVM_POL.predict_proba(X)[:,1])\n",
        "auc_RF, fpr_RF, tpr_RF = get_auc_scores(y, RF.predict(X),RF.predict_proba(X)[:,1])\n",
        "auc_XGB, fpr_XGB, tpr_XGB = get_auc_scores(y, XGB.predict(X),XGB.predict_proba(X)[:,1])"
      ],
      "metadata": {
        "id": "aCqduir4q4O4"
      },
      "execution_count": null,
      "outputs": []
    },
    {
      "cell_type": "code",
      "source": [
        "plt.figure(figsize = (12,6), linewidth= 1)\n",
        "plt.plot(fpr_log_primal, tpr_log_primal, label = 'log primal Score: ' + str(round(auc_log_primal, 5)))\n",
        "plt.plot(fpr_log_pol2, tpr_log_pol2, label = 'log pol2 score: ' + str(round(auc_log_pol2, 5)))\n",
        "plt.plot(fpr_SVM_RBF, tpr_SVM_RBF, label = 'SVM RBF Score: ' + str(round(auc_SVM_RBF, 5)))\n",
        "plt.plot(fpr_SVM_POL, tpr_SVM_POL, label = 'SVM POL Score: ' + str(round(auc_SVM_POL, 5)))\n",
        "plt.plot(fpr_RF, tpr_RF, label = 'RF score: ' + str(round(auc_RF, 5)))\n",
        "plt.plot(fpr_XGB, tpr_XGB, label = 'XGB score: ' + str(round(auc_XGB, 5)))\n",
        "plt.plot([0,1], [0,1], 'k--', label = 'Random: 0.5')\n",
        "plt.xlabel('False positive rate')\n",
        "plt.ylabel('True positive rate')\n",
        "plt.title('ROC Curve')\n",
        "plt.legend(loc='best')\n",
        "#plt.savefig('roc_results_ratios.png')\n",
        "plt.show()"
      ],
      "metadata": {
        "colab": {
          "base_uri": "https://localhost:8080/",
          "height": 404
        },
        "id": "uuzBR2x6q4H0",
        "outputId": "daf41919-7f4f-4ae9-c322-eec263597c4c"
      },
      "execution_count": null,
      "outputs": [
        {
          "output_type": "display_data",
          "data": {
            "text/plain": [
              "<Figure size 864x432 with 1 Axes>"
            ],
            "image/png": "[encoded data removed]"
          },
          "metadata": {
            "needs_background": "light"
          }
        }
      ]
    },
    {
      "cell_type": "markdown",
      "source": [
        "Dari hasil di atas, tujuan utama saya adalah untuk memprediksi pelanggan yang mungkin akan churn sehingga mereka dapat dimasukkan ke dalam semacam skema untuk mencegah churn maka langkah-langkah penarikan kembali pada 1 lebih penting bagi saya daripada skor akurasi keseluruhan dari model.\n",
        "Mengingat bahwa dalam data ini hanya memiliki 20% churn, penarikan yang lebih besar dari baseline ini sudah merupakan peningkatan tetapi kami ingin mendapatkan setinggi mungkin sambil berusaha mempertahankan presisi tinggi sehingga Bank dapat melatih sumber dayanya secara efektif menuju klien disorot oleh model tanpa membuang terlalu banyak sumber daya pada positif palsu.\n",
        "Dari review model-model yang dipasang di atas, model terbaik yang memberikan keseimbangan yang layak antara recall dan precision adalah random forest dimana menurut fit pada training set, dengan nilai presisi pada 1 sebesar 0,88, dari semua pelanggan yang model berpikir akan churn, 88% benar-benar churn dan dengan skor recall 0,52 pada 1, model mampu menyoroti 52% dari semua yang churn."
      ],
      "metadata": {
        "id": "pLkHA49j6TGC"
      }
    },
    {
      "cell_type": "markdown",
      "source": [
        "**Test model prediction accuracy on test data**"
      ],
      "metadata": {
        "id": "3V9B_bnsrfSq"
      }
    },
    {
      "cell_type": "code",
      "source": [
        "# Make the data transformation for test data\n",
        "BC_test = BCPrepPipeline(BC_test,BC_train.columns,minVec,maxVec)\n",
        "BC_test = BC_test.mask(np.isinf(BC_test))\n",
        "BC_test = BC_test.dropna()\n",
        "BC_test.shape"
      ],
      "metadata": {
        "colab": {
          "base_uri": "https://localhost:8080/"
        },
        "id": "Frwfqpo7q4Al",
        "outputId": "8f880a1d-02c0-4a58-ba5b-b3e32ace697c"
      },
      "execution_count": null,
      "outputs": [
        {
          "output_type": "execute_result",
          "data": {
            "text/plain": [
              "(1996, 17)"
            ]
          },
          "metadata": {},
          "execution_count": 112
        }
      ]
    },
    {
      "cell_type": "code",
      "source": [
        "print(classification_report(BC_test.churn,  RF.predict(BC_test.loc[:, BC_test.columns != 'churn'])))"
      ],
      "metadata": {
        "colab": {
          "base_uri": "https://localhost:8080/"
        },
        "id": "RhGa4ve6q32I",
        "outputId": "57eaf79f-fee7-40dc-d077-824f3b683832"
      },
      "execution_count": null,
      "outputs": [
        {
          "output_type": "stream",
          "name": "stdout",
          "text": [
            "              precision    recall  f1-score   support\n",
            "\n",
            "           0       0.87      0.97      0.92      1607\n",
            "           1       0.79      0.40      0.53       389\n",
            "\n",
            "    accuracy                           0.86      1996\n",
            "   macro avg       0.83      0.69      0.73      1996\n",
            "weighted avg       0.85      0.86      0.84      1996\n",
            "\n"
          ]
        }
      ]
    },
    {
      "cell_type": "code",
      "source": [
        "auc_RF_test, fpr_RF_test, tpr_RF_test = get_auc_scores(BC_test.churn, RF.predict(BC_test.loc[:, BC_test.columns != 'churn']),\n",
        "                                                       RF.predict_proba(BC_test.loc[:, BC_test.columns != 'churn'])[:,1])\n",
        "plt.figure(figsize = (12,6), linewidth= 1)\n",
        "plt.plot(fpr_RF_test, tpr_RF_test, label = 'RF score: ' + str(round(auc_RF_test, 5)))\n",
        "plt.plot([0,1], [0,1], 'k--', label = 'Random: 0.5')\n",
        "plt.xlabel('False positive rate')\n",
        "plt.ylabel('True positive rate')\n",
        "plt.title('ROC Curve')\n",
        "plt.legend(loc='best')\n",
        "#plt.savefig('roc_results_ratios.png')\n",
        "plt.show()"
      ],
      "metadata": {
        "colab": {
          "base_uri": "https://localhost:8080/",
          "height": 404
        },
        "id": "GESJAhwrr52o",
        "outputId": "c4118585-bd7e-48ba-8ab8-2b9a73158d98"
      },
      "execution_count": null,
      "outputs": [
        {
          "output_type": "display_data",
          "data": {
            "text/plain": [
              "<Figure size 864x432 with 1 Axes>"
            ],
            "image/png": "[encoded data removed]"
          },
          "metadata": {
            "needs_background": "light"
          }
        }
      ]
    },
    {
      "cell_type": "markdown",
      "source": [
        "Ketepatan model pada data uji yang tidak terlihat sebelumnya sedikit lebih tinggi dalam hal memprediksi 1 yaitu pelanggan yang churn. Namun, sebanyak model memiliki akurasi tinggi, masih meleset sekitar setengah dari mereka yang akhirnya churn. Ini dapat ditingkatkan dengan menyediakan pelatihan ulang model dengan lebih banyak data dari waktu ke waktu."
      ],
      "metadata": {
        "id": "WO1rkjjoCDPN"
      }
    }
  ]
}